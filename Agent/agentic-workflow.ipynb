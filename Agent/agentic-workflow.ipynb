{
 "cells": [
  {
   "cell_type": "code",
   "execution_count": 1,
   "metadata": {
    "execution": {
     "iopub.execute_input": "2025-04-05T14:30:15.920031Z",
     "iopub.status.busy": "2025-04-05T14:30:15.919636Z",
     "iopub.status.idle": "2025-04-05T14:33:46.102654Z",
     "shell.execute_reply": "2025-04-05T14:33:46.101334Z",
     "shell.execute_reply.started": "2025-04-05T14:30:15.919999Z"
    },
    "trusted": true
   },
   "outputs": [
    {
     "name": "stdout",
     "output_type": "stream",
     "text": [
      "Collecting langchain_huggingface\n",
      "  Downloading langchain_huggingface-0.1.2-py3-none-any.whl.metadata (1.3 kB)\n",
      "Collecting faiss-cpu\n",
      "  Downloading faiss_cpu-1.10.0-cp310-cp310-manylinux_2_28_x86_64.whl.metadata (4.4 kB)\n",
      "Collecting faiss-gpu\n",
      "  Downloading faiss_gpu-1.7.2-cp310-cp310-manylinux_2_17_x86_64.manylinux2014_x86_64.whl.metadata (1.4 kB)\n",
      "Requirement already satisfied: beautifulsoup4 in /usr/local/lib/python3.10/dist-packages (4.12.3)\n",
      "Collecting beautifulsoup4\n",
      "  Downloading beautifulsoup4-4.13.3-py3-none-any.whl.metadata (3.8 kB)\n",
      "Requirement already satisfied: requests in /usr/local/lib/python3.10/dist-packages (2.32.3)\n",
      "Requirement already satisfied: transformers in /usr/local/lib/python3.10/dist-packages (4.47.0)\n",
      "Collecting transformers\n",
      "  Downloading transformers-4.50.3-py3-none-any.whl.metadata (39 kB)\n",
      "Requirement already satisfied: peft in /usr/local/lib/python3.10/dist-packages (0.14.0)\n",
      "Collecting peft\n",
      "  Downloading peft-0.15.1-py3-none-any.whl.metadata (13 kB)\n",
      "Requirement already satisfied: accelerate in /usr/local/lib/python3.10/dist-packages (1.2.1)\n",
      "Collecting accelerate\n",
      "  Downloading accelerate-1.6.0-py3-none-any.whl.metadata (19 kB)\n",
      "Collecting bitsandbytes\n",
      "  Downloading bitsandbytes-0.45.4-py3-none-manylinux_2_24_x86_64.whl.metadata (5.0 kB)\n",
      "Collecting langchain_community\n",
      "  Downloading langchain_community-0.3.21-py3-none-any.whl.metadata (2.4 kB)\n",
      "Collecting langgraph\n",
      "  Downloading langgraph-0.3.25-py3-none-any.whl.metadata (7.7 kB)\n",
      "Collecting pymupdf\n",
      "  Downloading pymupdf-1.25.5-cp39-abi3-manylinux2014_x86_64.manylinux_2_17_x86_64.whl.metadata (3.4 kB)\n",
      "Collecting langchain_openai\n",
      "  Downloading langchain_openai-0.3.12-py3-none-any.whl.metadata (2.3 kB)\n",
      "Collecting PyPDF2\n",
      "  Downloading pypdf2-3.0.1-py3-none-any.whl.metadata (6.8 kB)\n",
      "Collecting trl\n",
      "  Downloading trl-0.16.1-py3-none-any.whl.metadata (12 kB)\n",
      "Requirement already satisfied: torch in /usr/local/lib/python3.10/dist-packages (2.5.1+cu121)\n",
      "Collecting torch\n",
      "  Downloading torch-2.6.0-cp310-cp310-manylinux1_x86_64.whl.metadata (28 kB)\n",
      "Requirement already satisfied: torchvision in /usr/local/lib/python3.10/dist-packages (0.20.1+cu121)\n",
      "Collecting torchvision\n",
      "  Downloading torchvision-0.21.0-cp310-cp310-manylinux1_x86_64.whl.metadata (6.1 kB)\n",
      "Requirement already satisfied: huggingface-hub>=0.23.0 in /usr/local/lib/python3.10/dist-packages (from langchain_huggingface) (0.29.0)\n",
      "Requirement already satisfied: langchain-core<0.4.0,>=0.3.15 in /usr/local/lib/python3.10/dist-packages (from langchain_huggingface) (0.3.25)\n",
      "Requirement already satisfied: sentence-transformers>=2.6.0 in /usr/local/lib/python3.10/dist-packages (from langchain_huggingface) (3.3.1)\n",
      "Requirement already satisfied: tokenizers>=0.19.1 in /usr/local/lib/python3.10/dist-packages (from langchain_huggingface) (0.21.0)\n",
      "Requirement already satisfied: numpy<3.0,>=1.25.0 in /usr/local/lib/python3.10/dist-packages (from faiss-cpu) (1.26.4)\n",
      "Requirement already satisfied: packaging in /usr/local/lib/python3.10/dist-packages (from faiss-cpu) (24.2)\n",
      "Requirement already satisfied: soupsieve>1.2 in /usr/local/lib/python3.10/dist-packages (from beautifulsoup4) (2.6)\n",
      "Requirement already satisfied: typing-extensions>=4.0.0 in /usr/local/lib/python3.10/dist-packages (from beautifulsoup4) (4.12.2)\n",
      "Requirement already satisfied: charset-normalizer<4,>=2 in /usr/local/lib/python3.10/dist-packages (from requests) (3.4.1)\n",
      "Requirement already satisfied: idna<4,>=2.5 in /usr/local/lib/python3.10/dist-packages (from requests) (3.10)\n",
      "Requirement already satisfied: urllib3<3,>=1.21.1 in /usr/local/lib/python3.10/dist-packages (from requests) (2.3.0)\n",
      "Requirement already satisfied: certifi>=2017.4.17 in /usr/local/lib/python3.10/dist-packages (from requests) (2025.1.31)\n",
      "Requirement already satisfied: filelock in /usr/local/lib/python3.10/dist-packages (from transformers) (3.17.0)\n",
      "Requirement already satisfied: pyyaml>=5.1 in /usr/local/lib/python3.10/dist-packages (from transformers) (6.0.2)\n",
      "Requirement already satisfied: regex!=2019.12.17 in /usr/local/lib/python3.10/dist-packages (from transformers) (2024.11.6)\n",
      "Requirement already satisfied: safetensors>=0.4.3 in /usr/local/lib/python3.10/dist-packages (from transformers) (0.4.5)\n",
      "Requirement already satisfied: tqdm>=4.27 in /usr/local/lib/python3.10/dist-packages (from transformers) (4.67.1)\n",
      "Requirement already satisfied: psutil in /usr/local/lib/python3.10/dist-packages (from peft) (5.9.5)\n",
      "Collecting langchain-core<0.4.0,>=0.3.15 (from langchain_huggingface)\n",
      "  Downloading langchain_core-0.3.51-py3-none-any.whl.metadata (5.9 kB)\n",
      "Collecting langchain<1.0.0,>=0.3.23 (from langchain_community)\n",
      "  Downloading langchain-0.3.23-py3-none-any.whl.metadata (7.8 kB)\n",
      "Requirement already satisfied: SQLAlchemy<3,>=1.4 in /usr/local/lib/python3.10/dist-packages (from langchain_community) (2.0.36)\n",
      "Requirement already satisfied: aiohttp<4.0.0,>=3.8.3 in /usr/local/lib/python3.10/dist-packages (from langchain_community) (3.11.12)\n",
      "Requirement already satisfied: tenacity!=8.4.0,<10,>=8.1.0 in /usr/local/lib/python3.10/dist-packages (from langchain_community) (9.0.0)\n",
      "Requirement already satisfied: dataclasses-json<0.7,>=0.5.7 in /usr/local/lib/python3.10/dist-packages (from langchain_community) (0.6.7)\n",
      "Collecting pydantic-settings<3.0.0,>=2.4.0 (from langchain_community)\n",
      "  Downloading pydantic_settings-2.8.1-py3-none-any.whl.metadata (3.5 kB)\n",
      "Requirement already satisfied: langsmith<0.4,>=0.1.125 in /usr/local/lib/python3.10/dist-packages (from langchain_community) (0.2.3)\n",
      "Collecting httpx-sse<1.0.0,>=0.4.0 (from langchain_community)\n",
      "  Downloading httpx_sse-0.4.0-py3-none-any.whl.metadata (9.0 kB)\n",
      "Collecting langgraph-checkpoint<3.0.0,>=2.0.10 (from langgraph)\n",
      "  Downloading langgraph_checkpoint-2.0.24-py3-none-any.whl.metadata (4.6 kB)\n",
      "Collecting langgraph-prebuilt<0.2,>=0.1.1 (from langgraph)\n",
      "  Downloading langgraph_prebuilt-0.1.8-py3-none-any.whl.metadata (5.0 kB)\n",
      "Collecting langgraph-sdk<0.2.0,>=0.1.42 (from langgraph)\n",
      "  Downloading langgraph_sdk-0.1.61-py3-none-any.whl.metadata (1.8 kB)\n",
      "Requirement already satisfied: xxhash<4.0.0,>=3.5.0 in /usr/local/lib/python3.10/dist-packages (from langgraph) (3.5.0)\n",
      "Collecting openai<2.0.0,>=1.68.2 (from langchain_openai)\n",
      "  Downloading openai-1.70.0-py3-none-any.whl.metadata (25 kB)\n",
      "Requirement already satisfied: tiktoken<1,>=0.7 in /usr/local/lib/python3.10/dist-packages (from langchain_openai) (0.9.0)\n",
      "Requirement already satisfied: datasets>=3.0.0 in /usr/local/lib/python3.10/dist-packages (from trl) (3.3.1)\n",
      "Requirement already satisfied: rich in /usr/local/lib/python3.10/dist-packages (from trl) (13.9.4)\n",
      "Requirement already satisfied: networkx in /usr/local/lib/python3.10/dist-packages (from torch) (3.4.2)\n",
      "Requirement already satisfied: jinja2 in /usr/local/lib/python3.10/dist-packages (from torch) (3.1.4)\n",
      "Requirement already satisfied: fsspec in /usr/local/lib/python3.10/dist-packages (from torch) (2024.12.0)\n",
      "Collecting nvidia-cuda-nvrtc-cu12==12.4.127 (from torch)\n",
      "  Downloading nvidia_cuda_nvrtc_cu12-12.4.127-py3-none-manylinux2014_x86_64.whl.metadata (1.5 kB)\n",
      "Collecting nvidia-cuda-runtime-cu12==12.4.127 (from torch)\n",
      "  Downloading nvidia_cuda_runtime_cu12-12.4.127-py3-none-manylinux2014_x86_64.whl.metadata (1.5 kB)\n",
      "Collecting nvidia-cuda-cupti-cu12==12.4.127 (from torch)\n",
      "  Downloading nvidia_cuda_cupti_cu12-12.4.127-py3-none-manylinux2014_x86_64.whl.metadata (1.6 kB)\n",
      "Collecting nvidia-cudnn-cu12==9.1.0.70 (from torch)\n",
      "  Downloading nvidia_cudnn_cu12-9.1.0.70-py3-none-manylinux2014_x86_64.whl.metadata (1.6 kB)\n",
      "Collecting nvidia-cublas-cu12==12.4.5.8 (from torch)\n",
      "  Downloading nvidia_cublas_cu12-12.4.5.8-py3-none-manylinux2014_x86_64.whl.metadata (1.5 kB)\n",
      "Collecting nvidia-cufft-cu12==11.2.1.3 (from torch)\n",
      "  Downloading nvidia_cufft_cu12-11.2.1.3-py3-none-manylinux2014_x86_64.whl.metadata (1.5 kB)\n",
      "Collecting nvidia-curand-cu12==10.3.5.147 (from torch)\n",
      "  Downloading nvidia_curand_cu12-10.3.5.147-py3-none-manylinux2014_x86_64.whl.metadata (1.5 kB)\n",
      "Collecting nvidia-cusolver-cu12==11.6.1.9 (from torch)\n",
      "  Downloading nvidia_cusolver_cu12-11.6.1.9-py3-none-manylinux2014_x86_64.whl.metadata (1.6 kB)\n",
      "Collecting nvidia-cusparse-cu12==12.3.1.170 (from torch)\n",
      "  Downloading nvidia_cusparse_cu12-12.3.1.170-py3-none-manylinux2014_x86_64.whl.metadata (1.6 kB)\n",
      "Collecting nvidia-cusparselt-cu12==0.6.2 (from torch)\n",
      "  Downloading nvidia_cusparselt_cu12-0.6.2-py3-none-manylinux2014_x86_64.whl.metadata (6.8 kB)\n",
      "Collecting nvidia-nccl-cu12==2.21.5 (from torch)\n",
      "  Downloading nvidia_nccl_cu12-2.21.5-py3-none-manylinux2014_x86_64.whl.metadata (1.8 kB)\n",
      "Collecting nvidia-nvtx-cu12==12.4.127 (from torch)\n",
      "  Downloading nvidia_nvtx_cu12-12.4.127-py3-none-manylinux2014_x86_64.whl.metadata (1.7 kB)\n",
      "Collecting nvidia-nvjitlink-cu12==12.4.127 (from torch)\n",
      "  Downloading nvidia_nvjitlink_cu12-12.4.127-py3-none-manylinux2014_x86_64.whl.metadata (1.5 kB)\n",
      "Collecting triton==3.2.0 (from torch)\n",
      "  Downloading triton-3.2.0-cp310-cp310-manylinux_2_17_x86_64.manylinux2014_x86_64.whl.metadata (1.4 kB)\n",
      "Requirement already satisfied: sympy==1.13.1 in /usr/local/lib/python3.10/dist-packages (from torch) (1.13.1)\n",
      "Requirement already satisfied: mpmath<1.4,>=1.1.0 in /usr/local/lib/python3.10/dist-packages (from sympy==1.13.1->torch) (1.3.0)\n",
      "Requirement already satisfied: pillow!=8.3.*,>=5.3.0 in /usr/local/lib/python3.10/dist-packages (from torchvision) (11.0.0)\n",
      "Requirement already satisfied: aiohappyeyeballs>=2.3.0 in /usr/local/lib/python3.10/dist-packages (from aiohttp<4.0.0,>=3.8.3->langchain_community) (2.4.6)\n",
      "Requirement already satisfied: aiosignal>=1.1.2 in /usr/local/lib/python3.10/dist-packages (from aiohttp<4.0.0,>=3.8.3->langchain_community) (1.3.2)\n",
      "Requirement already satisfied: async-timeout<6.0,>=4.0 in /usr/local/lib/python3.10/dist-packages (from aiohttp<4.0.0,>=3.8.3->langchain_community) (5.0.1)\n",
      "Requirement already satisfied: attrs>=17.3.0 in /usr/local/lib/python3.10/dist-packages (from aiohttp<4.0.0,>=3.8.3->langchain_community) (25.1.0)\n",
      "Requirement already satisfied: frozenlist>=1.1.1 in /usr/local/lib/python3.10/dist-packages (from aiohttp<4.0.0,>=3.8.3->langchain_community) (1.5.0)\n",
      "Requirement already satisfied: multidict<7.0,>=4.5 in /usr/local/lib/python3.10/dist-packages (from aiohttp<4.0.0,>=3.8.3->langchain_community) (6.1.0)\n",
      "Requirement already satisfied: propcache>=0.2.0 in /usr/local/lib/python3.10/dist-packages (from aiohttp<4.0.0,>=3.8.3->langchain_community) (0.2.1)\n",
      "Requirement already satisfied: yarl<2.0,>=1.17.0 in /usr/local/lib/python3.10/dist-packages (from aiohttp<4.0.0,>=3.8.3->langchain_community) (1.18.3)\n",
      "Requirement already satisfied: marshmallow<4.0.0,>=3.18.0 in /usr/local/lib/python3.10/dist-packages (from dataclasses-json<0.7,>=0.5.7->langchain_community) (3.26.1)\n",
      "Requirement already satisfied: typing-inspect<1,>=0.4.0 in /usr/local/lib/python3.10/dist-packages (from dataclasses-json<0.7,>=0.5.7->langchain_community) (0.9.0)\n",
      "Requirement already satisfied: pyarrow>=15.0.0 in /usr/local/lib/python3.10/dist-packages (from datasets>=3.0.0->trl) (19.0.1)\n",
      "Requirement already satisfied: dill<0.3.9,>=0.3.0 in /usr/local/lib/python3.10/dist-packages (from datasets>=3.0.0->trl) (0.3.8)\n",
      "Requirement already satisfied: pandas in /usr/local/lib/python3.10/dist-packages (from datasets>=3.0.0->trl) (2.2.3)\n",
      "Requirement already satisfied: multiprocess<0.70.17 in /usr/local/lib/python3.10/dist-packages (from datasets>=3.0.0->trl) (0.70.16)\n",
      "Collecting langchain-text-splitters<1.0.0,>=0.3.8 (from langchain<1.0.0,>=0.3.23->langchain_community)\n",
      "  Downloading langchain_text_splitters-0.3.8-py3-none-any.whl.metadata (1.9 kB)\n",
      "Requirement already satisfied: pydantic<3.0.0,>=2.7.4 in /usr/local/lib/python3.10/dist-packages (from langchain<1.0.0,>=0.3.23->langchain_community) (2.11.0a2)\n",
      "Collecting async-timeout<6.0,>=4.0 (from aiohttp<4.0.0,>=3.8.3->langchain_community)\n",
      "  Downloading async_timeout-4.0.3-py3-none-any.whl.metadata (4.2 kB)\n",
      "Requirement already satisfied: jsonpatch<2.0,>=1.33 in /usr/local/lib/python3.10/dist-packages (from langchain-core<0.4.0,>=0.3.15->langchain_huggingface) (1.33)\n",
      "Collecting ormsgpack<2.0.0,>=1.8.0 (from langgraph-checkpoint<3.0.0,>=2.0.10->langgraph)\n",
      "  Downloading ormsgpack-1.9.1-cp310-cp310-manylinux_2_17_x86_64.manylinux2014_x86_64.whl.metadata (43 kB)\n",
      "\u001b[2K     \u001b[90m━━━━━━━━━━━━━━━━━━━━━━━━━━━━━━━━━━━━━━━━\u001b[0m \u001b[32m43.5/43.5 kB\u001b[0m \u001b[31m2.3 MB/s\u001b[0m eta \u001b[36m0:00:00\u001b[0m\n",
      "\u001b[?25hRequirement already satisfied: httpx>=0.25.2 in /usr/local/lib/python3.10/dist-packages (from langgraph-sdk<0.2.0,>=0.1.42->langgraph) (0.28.1)\n",
      "Requirement already satisfied: orjson>=3.10.1 in /usr/local/lib/python3.10/dist-packages (from langgraph-sdk<0.2.0,>=0.1.42->langgraph) (3.10.12)\n",
      "Requirement already satisfied: requests-toolbelt<2.0.0,>=1.0.0 in /usr/local/lib/python3.10/dist-packages (from langsmith<0.4,>=0.1.125->langchain_community) (1.0.0)\n",
      "Requirement already satisfied: mkl_fft in /usr/local/lib/python3.10/dist-packages (from numpy<3.0,>=1.25.0->faiss-cpu) (1.3.8)\n",
      "Requirement already satisfied: mkl_random in /usr/local/lib/python3.10/dist-packages (from numpy<3.0,>=1.25.0->faiss-cpu) (1.2.4)\n",
      "Requirement already satisfied: mkl_umath in /usr/local/lib/python3.10/dist-packages (from numpy<3.0,>=1.25.0->faiss-cpu) (0.1.1)\n",
      "Requirement already satisfied: mkl in /usr/local/lib/python3.10/dist-packages (from numpy<3.0,>=1.25.0->faiss-cpu) (2025.0.1)\n",
      "Requirement already satisfied: tbb4py in /usr/local/lib/python3.10/dist-packages (from numpy<3.0,>=1.25.0->faiss-cpu) (2022.0.0)\n",
      "Requirement already satisfied: mkl-service in /usr/local/lib/python3.10/dist-packages (from numpy<3.0,>=1.25.0->faiss-cpu) (2.4.1)\n",
      "Requirement already satisfied: anyio<5,>=3.5.0 in /usr/local/lib/python3.10/dist-packages (from openai<2.0.0,>=1.68.2->langchain_openai) (3.7.1)\n",
      "Requirement already satisfied: distro<2,>=1.7.0 in /usr/local/lib/python3.10/dist-packages (from openai<2.0.0,>=1.68.2->langchain_openai) (1.9.0)\n",
      "Requirement already satisfied: jiter<1,>=0.4.0 in /usr/local/lib/python3.10/dist-packages (from openai<2.0.0,>=1.68.2->langchain_openai) (0.8.2)\n",
      "Requirement already satisfied: sniffio in /usr/local/lib/python3.10/dist-packages (from openai<2.0.0,>=1.68.2->langchain_openai) (1.3.1)\n",
      "Collecting python-dotenv>=0.21.0 (from pydantic-settings<3.0.0,>=2.4.0->langchain_community)\n",
      "  Downloading python_dotenv-1.1.0-py3-none-any.whl.metadata (24 kB)\n",
      "Requirement already satisfied: scikit-learn in /usr/local/lib/python3.10/dist-packages (from sentence-transformers>=2.6.0->langchain_huggingface) (1.2.2)\n",
      "Requirement already satisfied: scipy in /usr/local/lib/python3.10/dist-packages (from sentence-transformers>=2.6.0->langchain_huggingface) (1.13.1)\n",
      "Requirement already satisfied: greenlet!=0.4.17 in /usr/local/lib/python3.10/dist-packages (from SQLAlchemy<3,>=1.4->langchain_community) (3.1.1)\n",
      "Requirement already satisfied: MarkupSafe>=2.0 in /usr/local/lib/python3.10/dist-packages (from jinja2->torch) (3.0.2)\n",
      "Requirement already satisfied: markdown-it-py>=2.2.0 in /usr/local/lib/python3.10/dist-packages (from rich->trl) (3.0.0)\n",
      "Requirement already satisfied: pygments<3.0.0,>=2.13.0 in /usr/local/lib/python3.10/dist-packages (from rich->trl) (2.19.1)\n",
      "Requirement already satisfied: exceptiongroup in /usr/local/lib/python3.10/dist-packages (from anyio<5,>=3.5.0->openai<2.0.0,>=1.68.2->langchain_openai) (1.2.2)\n",
      "Requirement already satisfied: httpcore==1.* in /usr/local/lib/python3.10/dist-packages (from httpx>=0.25.2->langgraph-sdk<0.2.0,>=0.1.42->langgraph) (1.0.7)\n",
      "Requirement already satisfied: h11<0.15,>=0.13 in /usr/local/lib/python3.10/dist-packages (from httpcore==1.*->httpx>=0.25.2->langgraph-sdk<0.2.0,>=0.1.42->langgraph) (0.14.0)\n",
      "Requirement already satisfied: jsonpointer>=1.9 in /usr/local/lib/python3.10/dist-packages (from jsonpatch<2.0,>=1.33->langchain-core<0.4.0,>=0.3.15->langchain_huggingface) (3.0.0)\n",
      "Requirement already satisfied: mdurl~=0.1 in /usr/local/lib/python3.10/dist-packages (from markdown-it-py>=2.2.0->rich->trl) (0.1.2)\n",
      "Requirement already satisfied: annotated-types>=0.6.0 in /usr/local/lib/python3.10/dist-packages (from pydantic<3.0.0,>=2.7.4->langchain<1.0.0,>=0.3.23->langchain_community) (0.7.0)\n",
      "Requirement already satisfied: pydantic-core==2.29.0 in /usr/local/lib/python3.10/dist-packages (from pydantic<3.0.0,>=2.7.4->langchain<1.0.0,>=0.3.23->langchain_community) (2.29.0)\n",
      "Requirement already satisfied: mypy-extensions>=0.3.0 in /usr/local/lib/python3.10/dist-packages (from typing-inspect<1,>=0.4.0->dataclasses-json<0.7,>=0.5.7->langchain_community) (1.0.0)\n",
      "Requirement already satisfied: intel-openmp>=2024 in /usr/local/lib/python3.10/dist-packages (from mkl->numpy<3.0,>=1.25.0->faiss-cpu) (2024.2.0)\n",
      "Requirement already satisfied: tbb==2022.* in /usr/local/lib/python3.10/dist-packages (from mkl->numpy<3.0,>=1.25.0->faiss-cpu) (2022.0.0)\n",
      "Requirement already satisfied: tcmlib==1.* in /usr/local/lib/python3.10/dist-packages (from tbb==2022.*->mkl->numpy<3.0,>=1.25.0->faiss-cpu) (1.2.0)\n",
      "Requirement already satisfied: intel-cmplr-lib-rt in /usr/local/lib/python3.10/dist-packages (from mkl_umath->numpy<3.0,>=1.25.0->faiss-cpu) (2024.2.0)\n",
      "Requirement already satisfied: python-dateutil>=2.8.2 in /usr/local/lib/python3.10/dist-packages (from pandas->datasets>=3.0.0->trl) (2.9.0.post0)\n",
      "Requirement already satisfied: pytz>=2020.1 in /usr/local/lib/python3.10/dist-packages (from pandas->datasets>=3.0.0->trl) (2025.1)\n",
      "Requirement already satisfied: tzdata>=2022.7 in /usr/local/lib/python3.10/dist-packages (from pandas->datasets>=3.0.0->trl) (2025.1)\n",
      "Requirement already satisfied: joblib>=1.1.1 in /usr/local/lib/python3.10/dist-packages (from scikit-learn->sentence-transformers>=2.6.0->langchain_huggingface) (1.4.2)\n",
      "Requirement already satisfied: threadpoolctl>=2.0.0 in /usr/local/lib/python3.10/dist-packages (from scikit-learn->sentence-transformers>=2.6.0->langchain_huggingface) (3.5.0)\n",
      "Requirement already satisfied: intel-cmplr-lib-ur==2024.2.0 in /usr/local/lib/python3.10/dist-packages (from intel-openmp>=2024->mkl->numpy<3.0,>=1.25.0->faiss-cpu) (2024.2.0)\n",
      "Requirement already satisfied: six>=1.5 in /usr/local/lib/python3.10/dist-packages (from python-dateutil>=2.8.2->pandas->datasets>=3.0.0->trl) (1.17.0)\n",
      "Downloading langchain_huggingface-0.1.2-py3-none-any.whl (21 kB)\n",
      "Downloading faiss_cpu-1.10.0-cp310-cp310-manylinux_2_28_x86_64.whl (30.7 MB)\n",
      "\u001b[2K   \u001b[90m━━━━━━━━━━━━━━━━━━━━━━━━━━━━━━━━━━━━━━━━\u001b[0m \u001b[32m30.7/30.7 MB\u001b[0m \u001b[31m54.2 MB/s\u001b[0m eta \u001b[36m0:00:00\u001b[0m:00:01\u001b[0m00:01\u001b[0m\n",
      "\u001b[?25hDownloading faiss_gpu-1.7.2-cp310-cp310-manylinux_2_17_x86_64.manylinux2014_x86_64.whl (85.5 MB)\n",
      "\u001b[2K   \u001b[90m━━━━━━━━━━━━━━━━━━━━━━━━━━━━━━━━━━━━━━━━\u001b[0m \u001b[32m85.5/85.5 MB\u001b[0m \u001b[31m19.2 MB/s\u001b[0m eta \u001b[36m0:00:00\u001b[0m:00:01\u001b[0m00:01\u001b[0m\n",
      "\u001b[?25hDownloading beautifulsoup4-4.13.3-py3-none-any.whl (186 kB)\n",
      "\u001b[2K   \u001b[90m━━━━━━━━━━━━━━━━━━━━━━━━━━━━━━━━━━━━━━━━\u001b[0m \u001b[32m186.0/186.0 kB\u001b[0m \u001b[31m10.3 MB/s\u001b[0m eta \u001b[36m0:00:00\u001b[0m\n",
      "\u001b[?25hDownloading transformers-4.50.3-py3-none-any.whl (10.2 MB)\n",
      "\u001b[2K   \u001b[90m━━━━━━━━━━━━━━━━━━━━━━━━━━━━━━━━━━━━━━━━\u001b[0m \u001b[32m10.2/10.2 MB\u001b[0m \u001b[31m103.9 MB/s\u001b[0m eta \u001b[36m0:00:00\u001b[0m00:01\u001b[0m0:01\u001b[0m\n",
      "\u001b[?25hDownloading peft-0.15.1-py3-none-any.whl (411 kB)\n",
      "\u001b[2K   \u001b[90m━━━━━━━━━━━━━━━━━━━━━━━━━━━━━━━━━━━━━━━━\u001b[0m \u001b[32m411.0/411.0 kB\u001b[0m \u001b[31m21.5 MB/s\u001b[0m eta \u001b[36m0:00:00\u001b[0m\n",
      "\u001b[?25hDownloading accelerate-1.6.0-py3-none-any.whl (354 kB)\n",
      "\u001b[2K   \u001b[90m━━━━━━━━━━━━━━━━━━━━━━━━━━━━━━━━━━━━━━━━\u001b[0m \u001b[32m354.7/354.7 kB\u001b[0m \u001b[31m18.3 MB/s\u001b[0m eta \u001b[36m0:00:00\u001b[0m\n",
      "\u001b[?25hDownloading bitsandbytes-0.45.4-py3-none-manylinux_2_24_x86_64.whl (76.0 MB)\n",
      "\u001b[2K   \u001b[90m━━━━━━━━━━━━━━━━━━━━━━━━━━━━━━━━━━━━━━━━\u001b[0m \u001b[32m76.0/76.0 MB\u001b[0m \u001b[31m21.1 MB/s\u001b[0m eta \u001b[36m0:00:00\u001b[0m:00:01\u001b[0m00:01\u001b[0m\n",
      "\u001b[?25hDownloading langchain_community-0.3.21-py3-none-any.whl (2.5 MB)\n",
      "\u001b[2K   \u001b[90m━━━━━━━━━━━━━━━━━━━━━━━━━━━━━━━━━━━━━━━━\u001b[0m \u001b[32m2.5/2.5 MB\u001b[0m \u001b[31m60.6 MB/s\u001b[0m eta \u001b[36m0:00:00\u001b[0m:00:01\u001b[0m\n",
      "\u001b[?25hDownloading langgraph-0.3.25-py3-none-any.whl (142 kB)\n",
      "\u001b[2K   \u001b[90m━━━━━━━━━━━━━━━━━━━━━━━━━━━━━━━━━━━━━━━━\u001b[0m \u001b[32m142.4/142.4 kB\u001b[0m \u001b[31m8.1 MB/s\u001b[0m eta \u001b[36m0:00:00\u001b[0m\n",
      "\u001b[?25hDownloading pymupdf-1.25.5-cp39-abi3-manylinux2014_x86_64.manylinux_2_17_x86_64.whl (20.0 MB)\n",
      "\u001b[2K   \u001b[90m━━━━━━━━━━━━━━━━━━━━━━━━━━━━━━━━━━━━━━━━\u001b[0m \u001b[32m20.0/20.0 MB\u001b[0m \u001b[31m78.1 MB/s\u001b[0m eta \u001b[36m0:00:00\u001b[0m:00:01\u001b[0m00:01\u001b[0m\n",
      "\u001b[?25hDownloading langchain_openai-0.3.12-py3-none-any.whl (61 kB)\n",
      "\u001b[2K   \u001b[90m━━━━━━━━━━━━━━━━━━━━━━━━━━━━━━━━━━━━━━━━\u001b[0m \u001b[32m61.3/61.3 kB\u001b[0m \u001b[31m3.7 MB/s\u001b[0m eta \u001b[36m0:00:00\u001b[0m\n",
      "\u001b[?25hDownloading pypdf2-3.0.1-py3-none-any.whl (232 kB)\n",
      "\u001b[2K   \u001b[90m━━━━━━━━━━━━━━━━━━━━━━━━━━━━━━━━━━━━━━━━\u001b[0m \u001b[32m232.6/232.6 kB\u001b[0m \u001b[31m13.4 MB/s\u001b[0m eta \u001b[36m0:00:00\u001b[0m\n",
      "\u001b[?25hDownloading trl-0.16.1-py3-none-any.whl (336 kB)\n",
      "\u001b[2K   \u001b[90m━━━━━━━━━━━━━━━━━━━━━━━━━━━━━━━━━━━━━━━━\u001b[0m \u001b[32m336.4/336.4 kB\u001b[0m \u001b[31m19.2 MB/s\u001b[0m eta \u001b[36m0:00:00\u001b[0m\n",
      "\u001b[?25hDownloading torch-2.6.0-cp310-cp310-manylinux1_x86_64.whl (766.7 MB)\n",
      "\u001b[2K   \u001b[90m━━━━━━━━━━━━━━━━━━━━━━━━━━━━━━━━━━━━━━━━\u001b[0m \u001b[32m766.7/766.7 MB\u001b[0m \u001b[31m2.1 MB/s\u001b[0m eta \u001b[36m0:00:00\u001b[0m0:00:01\u001b[0m00:01\u001b[0m\n",
      "\u001b[?25hDownloading nvidia_cublas_cu12-12.4.5.8-py3-none-manylinux2014_x86_64.whl (363.4 MB)\n",
      "\u001b[2K   \u001b[90m━━━━━━━━━━━━━━━━━━━━━━━━━━━━━━━━━━━━━━━━\u001b[0m \u001b[32m363.4/363.4 MB\u001b[0m \u001b[31m4.4 MB/s\u001b[0m eta \u001b[36m0:00:00\u001b[0m0:00:01\u001b[0m00:01\u001b[0m\n",
      "\u001b[?25hDownloading nvidia_cuda_cupti_cu12-12.4.127-py3-none-manylinux2014_x86_64.whl (13.8 MB)\n",
      "\u001b[2K   \u001b[90m━━━━━━━━━━━━━━━━━━━━━━━━━━━━━━━━━━━━━━━━\u001b[0m \u001b[32m13.8/13.8 MB\u001b[0m \u001b[31m82.1 MB/s\u001b[0m eta \u001b[36m0:00:00\u001b[0m:00:01\u001b[0m00:01\u001b[0m\n",
      "\u001b[?25hDownloading nvidia_cuda_nvrtc_cu12-12.4.127-py3-none-manylinux2014_x86_64.whl (24.6 MB)\n",
      "\u001b[2K   \u001b[90m━━━━━━━━━━━━━━━━━━━━━━━━━━━━━━━━━━━━━━━━\u001b[0m \u001b[32m24.6/24.6 MB\u001b[0m \u001b[31m64.0 MB/s\u001b[0m eta \u001b[36m0:00:00\u001b[0m:00:01\u001b[0m00:01\u001b[0m\n",
      "\u001b[?25hDownloading nvidia_cuda_runtime_cu12-12.4.127-py3-none-manylinux2014_x86_64.whl (883 kB)\n",
      "\u001b[2K   \u001b[90m━━━━━━━━━━━━━━━━━━━━━━━━━━━━━━━━━━━━━━━━\u001b[0m \u001b[32m883.7/883.7 kB\u001b[0m \u001b[31m31.9 MB/s\u001b[0m eta \u001b[36m0:00:00\u001b[0m\n",
      "\u001b[?25hDownloading nvidia_cudnn_cu12-9.1.0.70-py3-none-manylinux2014_x86_64.whl (664.8 MB)\n",
      "\u001b[2K   \u001b[90m━━━━━━━━━━━━━━━━━━━━━━━━━━━━━━━━━━━━━━━━\u001b[0m \u001b[32m664.8/664.8 MB\u001b[0m \u001b[31m924.1 kB/s\u001b[0m eta \u001b[36m0:00:00\u001b[0m00:01\u001b[0m00:01\u001b[0m\n",
      "\u001b[?25hDownloading nvidia_cufft_cu12-11.2.1.3-py3-none-manylinux2014_x86_64.whl (211.5 MB)\n",
      "\u001b[2K   \u001b[90m━━━━━━━━━━━━━━━━━━━━━━━━━━━━━━━━━━━━━━━━\u001b[0m \u001b[32m211.5/211.5 MB\u001b[0m \u001b[31m3.6 MB/s\u001b[0m eta \u001b[36m0:00:00\u001b[0m0:00:01\u001b[0m00:01\u001b[0m\n",
      "\u001b[?25hDownloading nvidia_curand_cu12-10.3.5.147-py3-none-manylinux2014_x86_64.whl (56.3 MB)\n",
      "\u001b[2K   \u001b[90m━━━━━━━━━━━━━━━━━━━━━━━━━━━━━━━━━━━━━━━━\u001b[0m \u001b[32m56.3/56.3 MB\u001b[0m \u001b[31m27.3 MB/s\u001b[0m eta \u001b[36m0:00:00\u001b[0m:00:01\u001b[0m00:01\u001b[0m\n",
      "\u001b[?25hDownloading nvidia_cusolver_cu12-11.6.1.9-py3-none-manylinux2014_x86_64.whl (127.9 MB)\n",
      "\u001b[2K   \u001b[90m━━━━━━━━━━━━━━━━━━━━━━━━━━━━━━━━━━━━━━━━\u001b[0m \u001b[32m127.9/127.9 MB\u001b[0m \u001b[31m12.4 MB/s\u001b[0m eta \u001b[36m0:00:00\u001b[0m:00:01\u001b[0m00:01\u001b[0m\n",
      "\u001b[?25hDownloading nvidia_cusparse_cu12-12.3.1.170-py3-none-manylinux2014_x86_64.whl (207.5 MB)\n",
      "\u001b[2K   \u001b[90m━━━━━━━━━━━━━━━━━━━━━━━━━━━━━━━━━━━━━━━━\u001b[0m \u001b[32m207.5/207.5 MB\u001b[0m \u001b[31m7.8 MB/s\u001b[0m eta \u001b[36m0:00:00\u001b[0m0:00:01\u001b[0m00:01\u001b[0m\n",
      "\u001b[?25hDownloading nvidia_cusparselt_cu12-0.6.2-py3-none-manylinux2014_x86_64.whl (150.1 MB)\n",
      "\u001b[2K   \u001b[90m━━━━━━━━━━━━━━━━━━━━━━━━━━━━━━━━━━━━━━━━\u001b[0m \u001b[32m150.1/150.1 MB\u001b[0m \u001b[31m10.8 MB/s\u001b[0m eta \u001b[36m0:00:00\u001b[0m:00:01\u001b[0m00:01\u001b[0m\n",
      "\u001b[?25hDownloading nvidia_nccl_cu12-2.21.5-py3-none-manylinux2014_x86_64.whl (188.7 MB)\n",
      "\u001b[2K   \u001b[90m━━━━━━━━━━━━━━━━━━━━━━━━━━━━━━━━━━━━━━━━\u001b[0m \u001b[32m188.7/188.7 MB\u001b[0m \u001b[31m8.6 MB/s\u001b[0m eta \u001b[36m0:00:00\u001b[0m0:00:01\u001b[0m00:01\u001b[0m\n",
      "\u001b[?25hDownloading nvidia_nvjitlink_cu12-12.4.127-py3-none-manylinux2014_x86_64.whl (21.1 MB)\n",
      "\u001b[2K   \u001b[90m━━━━━━━━━━━━━━━━━━━━━━━━━━━━━━━━━━━━━━━━\u001b[0m \u001b[32m21.1/21.1 MB\u001b[0m \u001b[31m65.8 MB/s\u001b[0m eta \u001b[36m0:00:00\u001b[0m:00:01\u001b[0m00:01\u001b[0m\n",
      "\u001b[?25hDownloading nvidia_nvtx_cu12-12.4.127-py3-none-manylinux2014_x86_64.whl (99 kB)\n",
      "\u001b[2K   \u001b[90m━━━━━━━━━━━━━━━━━━━━━━━━━━━━━━━━━━━━━━━━\u001b[0m \u001b[32m99.1/99.1 kB\u001b[0m \u001b[31m4.9 MB/s\u001b[0m eta \u001b[36m0:00:00\u001b[0m\n",
      "\u001b[?25hDownloading triton-3.2.0-cp310-cp310-manylinux_2_17_x86_64.manylinux2014_x86_64.whl (253.1 MB)\n",
      "\u001b[2K   \u001b[90m━━━━━━━━━━━━━━━━━━━━━━━━━━━━━━━━━━━━━━━━\u001b[0m \u001b[32m253.1/253.1 MB\u001b[0m \u001b[31m6.3 MB/s\u001b[0m eta \u001b[36m0:00:00\u001b[0m0:00:01\u001b[0m00:01\u001b[0m\n",
      "\u001b[?25hDownloading torchvision-0.21.0-cp310-cp310-manylinux1_x86_64.whl (7.2 MB)\n",
      "\u001b[2K   \u001b[90m━━━━━━━━━━━━━━━━━━━━━━━━━━━━━━━━━━━━━━━━\u001b[0m \u001b[32m7.2/7.2 MB\u001b[0m \u001b[31m89.3 MB/s\u001b[0m eta \u001b[36m0:00:00\u001b[0m:00:01\u001b[0m00:01\u001b[0m\n",
      "\u001b[?25hDownloading httpx_sse-0.4.0-py3-none-any.whl (7.8 kB)\n",
      "Downloading langchain-0.3.23-py3-none-any.whl (1.0 MB)\n",
      "\u001b[2K   \u001b[90m━━━━━━━━━━━━━━━━━━━━━━━━━━━━━━━━━━━━━━━━\u001b[0m \u001b[32m1.0/1.0 MB\u001b[0m \u001b[31m40.7 MB/s\u001b[0m eta \u001b[36m0:00:00\u001b[0m\n",
      "\u001b[?25hDownloading langchain_core-0.3.51-py3-none-any.whl (423 kB)\n",
      "\u001b[2K   \u001b[90m━━━━━━━━━━━━━━━━━━━━━━━━━━━━━━━━━━━━━━━━\u001b[0m \u001b[32m423.3/423.3 kB\u001b[0m \u001b[31m23.2 MB/s\u001b[0m eta \u001b[36m0:00:00\u001b[0m\n",
      "\u001b[?25hDownloading langgraph_checkpoint-2.0.24-py3-none-any.whl (42 kB)\n",
      "\u001b[2K   \u001b[90m━━━━━━━━━━━━━━━━━━━━━━━━━━━━━━━━━━━━━━━━\u001b[0m \u001b[32m42.0/42.0 kB\u001b[0m \u001b[31m2.4 MB/s\u001b[0m eta \u001b[36m0:00:00\u001b[0m\n",
      "\u001b[?25hDownloading langgraph_prebuilt-0.1.8-py3-none-any.whl (25 kB)\n",
      "Downloading langgraph_sdk-0.1.61-py3-none-any.whl (47 kB)\n",
      "\u001b[2K   \u001b[90m━━━━━━━━━━━━━━━━━━━━━━━━━━━━━━━━━━━━━━━━\u001b[0m \u001b[32m47.2/47.2 kB\u001b[0m \u001b[31m2.5 MB/s\u001b[0m eta \u001b[36m0:00:00\u001b[0m\n",
      "\u001b[?25hDownloading openai-1.70.0-py3-none-any.whl (599 kB)\n",
      "\u001b[2K   \u001b[90m━━━━━━━━━━━━━━━━━━━━━━━━━━━━━━━━━━━━━━━━\u001b[0m \u001b[32m599.1/599.1 kB\u001b[0m \u001b[31m28.7 MB/s\u001b[0m eta \u001b[36m0:00:00\u001b[0m\n",
      "\u001b[?25hDownloading pydantic_settings-2.8.1-py3-none-any.whl (30 kB)\n",
      "Downloading async_timeout-4.0.3-py3-none-any.whl (5.7 kB)\n",
      "Downloading langchain_text_splitters-0.3.8-py3-none-any.whl (32 kB)\n",
      "Downloading ormsgpack-1.9.1-cp310-cp310-manylinux_2_17_x86_64.manylinux2014_x86_64.whl (223 kB)\n",
      "\u001b[2K   \u001b[90m━━━━━━━━━━━━━━━━━━━━━━━━━━━━━━━━━━━━━━━━\u001b[0m \u001b[32m223.6/223.6 kB\u001b[0m \u001b[31m10.5 MB/s\u001b[0m eta \u001b[36m0:00:00\u001b[0m\n",
      "\u001b[?25hDownloading python_dotenv-1.1.0-py3-none-any.whl (20 kB)\n",
      "Installing collected packages: triton, nvidia-cusparselt-cu12, faiss-gpu, python-dotenv, PyPDF2, pymupdf, ormsgpack, nvidia-nvtx-cu12, nvidia-nvjitlink-cu12, nvidia-nccl-cu12, nvidia-curand-cu12, nvidia-cufft-cu12, nvidia-cuda-runtime-cu12, nvidia-cuda-nvrtc-cu12, nvidia-cuda-cupti-cu12, nvidia-cublas-cu12, httpx-sse, beautifulsoup4, async-timeout, nvidia-cusparse-cu12, nvidia-cudnn-cu12, pydantic-settings, openai, nvidia-cusolver-cu12, langgraph-sdk, torch, langchain-core, langgraph-checkpoint, langchain-text-splitters, langchain_openai, langgraph-prebuilt, langchain, langgraph, transformers, accelerate, trl, torchvision, peft, langchain_huggingface, langchain_community, faiss-cpu, bitsandbytes\n",
      "  Attempting uninstall: nvidia-nvjitlink-cu12\n",
      "    Found existing installation: nvidia-nvjitlink-cu12 12.6.85\n",
      "    Uninstalling nvidia-nvjitlink-cu12-12.6.85:\n",
      "      Successfully uninstalled nvidia-nvjitlink-cu12-12.6.85\n",
      "  Attempting uninstall: nvidia-nccl-cu12\n",
      "    Found existing installation: nvidia-nccl-cu12 2.23.4\n",
      "    Uninstalling nvidia-nccl-cu12-2.23.4:\n",
      "      Successfully uninstalled nvidia-nccl-cu12-2.23.4\n",
      "  Attempting uninstall: nvidia-curand-cu12\n",
      "    Found existing installation: nvidia-curand-cu12 10.3.7.77\n",
      "    Uninstalling nvidia-curand-cu12-10.3.7.77:\n",
      "      Successfully uninstalled nvidia-curand-cu12-10.3.7.77\n",
      "  Attempting uninstall: nvidia-cufft-cu12\n",
      "    Found existing installation: nvidia-cufft-cu12 11.3.0.4\n",
      "    Uninstalling nvidia-cufft-cu12-11.3.0.4:\n",
      "      Successfully uninstalled nvidia-cufft-cu12-11.3.0.4\n",
      "  Attempting uninstall: nvidia-cuda-runtime-cu12\n",
      "    Found existing installation: nvidia-cuda-runtime-cu12 12.6.77\n",
      "    Uninstalling nvidia-cuda-runtime-cu12-12.6.77:\n",
      "      Successfully uninstalled nvidia-cuda-runtime-cu12-12.6.77\n",
      "  Attempting uninstall: nvidia-cuda-cupti-cu12\n",
      "    Found existing installation: nvidia-cuda-cupti-cu12 12.6.80\n",
      "    Uninstalling nvidia-cuda-cupti-cu12-12.6.80:\n",
      "      Successfully uninstalled nvidia-cuda-cupti-cu12-12.6.80\n",
      "  Attempting uninstall: nvidia-cublas-cu12\n",
      "    Found existing installation: nvidia-cublas-cu12 12.6.4.1\n",
      "    Uninstalling nvidia-cublas-cu12-12.6.4.1:\n",
      "      Successfully uninstalled nvidia-cublas-cu12-12.6.4.1\n",
      "  Attempting uninstall: beautifulsoup4\n",
      "    Found existing installation: beautifulsoup4 4.12.3\n",
      "    Uninstalling beautifulsoup4-4.12.3:\n",
      "      Successfully uninstalled beautifulsoup4-4.12.3\n",
      "  Attempting uninstall: async-timeout\n",
      "    Found existing installation: async-timeout 5.0.1\n",
      "    Uninstalling async-timeout-5.0.1:\n",
      "      Successfully uninstalled async-timeout-5.0.1\n",
      "  Attempting uninstall: nvidia-cusparse-cu12\n",
      "    Found existing installation: nvidia-cusparse-cu12 12.5.4.2\n",
      "    Uninstalling nvidia-cusparse-cu12-12.5.4.2:\n",
      "      Successfully uninstalled nvidia-cusparse-cu12-12.5.4.2\n",
      "  Attempting uninstall: nvidia-cudnn-cu12\n",
      "    Found existing installation: nvidia-cudnn-cu12 9.6.0.74\n",
      "    Uninstalling nvidia-cudnn-cu12-9.6.0.74:\n",
      "      Successfully uninstalled nvidia-cudnn-cu12-9.6.0.74\n",
      "  Attempting uninstall: openai\n",
      "    Found existing installation: openai 1.57.4\n",
      "    Uninstalling openai-1.57.4:\n",
      "      Successfully uninstalled openai-1.57.4\n",
      "  Attempting uninstall: nvidia-cusolver-cu12\n",
      "    Found existing installation: nvidia-cusolver-cu12 11.7.1.2\n",
      "    Uninstalling nvidia-cusolver-cu12-11.7.1.2:\n",
      "      Successfully uninstalled nvidia-cusolver-cu12-11.7.1.2\n",
      "  Attempting uninstall: torch\n",
      "    Found existing installation: torch 2.5.1+cu121\n",
      "    Uninstalling torch-2.5.1+cu121:\n",
      "      Successfully uninstalled torch-2.5.1+cu121\n",
      "  Attempting uninstall: langchain-core\n",
      "    Found existing installation: langchain-core 0.3.25\n",
      "    Uninstalling langchain-core-0.3.25:\n",
      "      Successfully uninstalled langchain-core-0.3.25\n",
      "  Attempting uninstall: langchain-text-splitters\n",
      "    Found existing installation: langchain-text-splitters 0.3.3\n",
      "    Uninstalling langchain-text-splitters-0.3.3:\n",
      "      Successfully uninstalled langchain-text-splitters-0.3.3\n",
      "  Attempting uninstall: langchain\n",
      "    Found existing installation: langchain 0.3.12\n",
      "    Uninstalling langchain-0.3.12:\n",
      "      Successfully uninstalled langchain-0.3.12\n",
      "  Attempting uninstall: transformers\n",
      "    Found existing installation: transformers 4.47.0\n",
      "    Uninstalling transformers-4.47.0:\n",
      "      Successfully uninstalled transformers-4.47.0\n",
      "  Attempting uninstall: accelerate\n",
      "    Found existing installation: accelerate 1.2.1\n",
      "    Uninstalling accelerate-1.2.1:\n",
      "      Successfully uninstalled accelerate-1.2.1\n",
      "  Attempting uninstall: torchvision\n",
      "    Found existing installation: torchvision 0.20.1+cu121\n",
      "    Uninstalling torchvision-0.20.1+cu121:\n",
      "      Successfully uninstalled torchvision-0.20.1+cu121\n",
      "  Attempting uninstall: peft\n",
      "    Found existing installation: peft 0.14.0\n",
      "    Uninstalling peft-0.14.0:\n",
      "      Successfully uninstalled peft-0.14.0\n",
      "\u001b[31mERROR: pip's dependency resolver does not currently take into account all the packages that are installed. This behaviour is the source of the following dependency conflicts.\n",
      "fastai 2.7.18 requires torch<2.6,>=1.10, but you have torch 2.6.0 which is incompatible.\n",
      "gcsfs 2024.10.0 requires fsspec==2024.10.0, but you have fsspec 2024.12.0 which is incompatible.\n",
      "pylibcugraph-cu12 24.10.0 requires pylibraft-cu12==24.10.*, but you have pylibraft-cu12 25.2.0 which is incompatible.\n",
      "pylibcugraph-cu12 24.10.0 requires rmm-cu12==24.10.*, but you have rmm-cu12 25.2.0 which is incompatible.\n",
      "torchaudio 2.5.1+cu121 requires torch==2.5.1, but you have torch 2.6.0 which is incompatible.\u001b[0m\u001b[31m\n",
      "\u001b[0mSuccessfully installed PyPDF2-3.0.1 accelerate-1.6.0 async-timeout-4.0.3 beautifulsoup4-4.13.3 bitsandbytes-0.45.4 faiss-cpu-1.10.0 faiss-gpu-1.7.2 httpx-sse-0.4.0 langchain-0.3.23 langchain-core-0.3.51 langchain-text-splitters-0.3.8 langchain_community-0.3.21 langchain_huggingface-0.1.2 langchain_openai-0.3.12 langgraph-0.3.25 langgraph-checkpoint-2.0.24 langgraph-prebuilt-0.1.8 langgraph-sdk-0.1.61 nvidia-cublas-cu12-12.4.5.8 nvidia-cuda-cupti-cu12-12.4.127 nvidia-cuda-nvrtc-cu12-12.4.127 nvidia-cuda-runtime-cu12-12.4.127 nvidia-cudnn-cu12-9.1.0.70 nvidia-cufft-cu12-11.2.1.3 nvidia-curand-cu12-10.3.5.147 nvidia-cusolver-cu12-11.6.1.9 nvidia-cusparse-cu12-12.3.1.170 nvidia-cusparselt-cu12-0.6.2 nvidia-nccl-cu12-2.21.5 nvidia-nvjitlink-cu12-12.4.127 nvidia-nvtx-cu12-12.4.127 openai-1.70.0 ormsgpack-1.9.1 peft-0.15.1 pydantic-settings-2.8.1 pymupdf-1.25.5 python-dotenv-1.1.0 torch-2.6.0 torchvision-0.21.0 transformers-4.50.3 triton-3.2.0 trl-0.16.1\n"
     ]
    }
   ],
   "source": [
    "!pip install -U langchain_huggingface faiss-cpu faiss-gpu beautifulsoup4 requests transformers peft accelerate bitsandbytes langchain_community langgraph pymupdf langchain_openai PyPDF2 trl torch torchvision\n"
   ]
  },
  {
   "cell_type": "code",
   "execution_count": 2,
   "metadata": {
    "execution": {
     "iopub.execute_input": "2025-04-05T14:33:46.104764Z",
     "iopub.status.busy": "2025-04-05T14:33:46.104355Z",
     "iopub.status.idle": "2025-04-05T14:34:10.410491Z",
     "shell.execute_reply": "2025-04-05T14:34:10.409679Z",
     "shell.execute_reply.started": "2025-04-05T14:33:46.104708Z"
    },
    "trusted": true
   },
   "outputs": [],
   "source": [
    "from langchain.agents import tool\n",
    "\n",
    "from langchain_community.document_loaders import WebBaseLoader\n",
    "\n",
    "from langchain_community.vectorstores import FAISS\n",
    "from langchain_openai import OpenAIEmbeddings\n",
    "from langchain_text_splitters import RecursiveCharacterTextSplitter\n",
    "from langchain.agents import tool\n",
    "\n",
    "import os\n",
    "import nest_asyncio\n",
    "from PyPDF2 import PdfReader\n",
    "from langchain.text_splitter import RecursiveCharacterTextSplitter\n",
    "from langchain.vectorstores import FAISS\n",
    "from langchain_huggingface import HuggingFaceEmbeddings  # Updated import\n",
    "from langchain.schema import Document\n",
    "\n",
    "from transformers import AutoModelForCausalLM, AutoTokenizer, pipeline\n",
    "from langchain.chains import ConversationChain\n",
    "from langchain.memory import ConversationBufferMemory\n",
    "from langchain.prompts import PromptTemplate\n",
    "from langchain.llms import HuggingFacePipeline\n",
    "import torchvision\n",
    "torchvision.disable_beta_transforms_warning()\n",
    "\n",
    "import bs4\n",
    "from langchain_community.document_loaders import WebBaseLoader"
   ]
  },
  {
   "cell_type": "code",
   "execution_count": 3,
   "metadata": {
    "execution": {
     "iopub.execute_input": "2025-04-05T14:34:10.413065Z",
     "iopub.status.busy": "2025-04-05T14:34:10.412443Z",
     "iopub.status.idle": "2025-04-05T14:34:10.419685Z",
     "shell.execute_reply": "2025-04-05T14:34:10.418650Z",
     "shell.execute_reply.started": "2025-04-05T14:34:10.413041Z"
    },
    "trusted": true
   },
   "outputs": [],
   "source": [
    "def load_pdfs_from_folder(folder_path):\n",
    "    pdf_documents = []\n",
    "    for filename in os.listdir(folder_path):\n",
    "        if filename.endswith(\".pdf\"):\n",
    "            file_path = os.path.join(folder_path, filename)\n",
    "            with open(file_path, 'rb') as f:\n",
    "                reader = PdfReader(f)\n",
    "                text = \"\\n\".join([page.extract_text() for page in reader.pages if page.extract_text()])\n",
    "                pdf_documents.append(Document(page_content=text))  # Convert to LangChain Document\n",
    "    return pdf_documents\n",
    "\n",
    "# Improved text splitting function\n",
    "def split_documents(documents, chunk_size=1000, chunk_overlap=200):\n",
    "    text_splitter = RecursiveCharacterTextSplitter(chunk_size=chunk_size, chunk_overlap=chunk_overlap)\n",
    "    split_documents = text_splitter.split_documents(documents)\n",
    "    return split_documents\n",
    "\n",
    "# Function to load and process documents for RAG (only PDFs now)\n",
    "def load_and_process_documents(pdf_folder):\n",
    "    # Load PDFs from folder\n",
    "    pdf_documents = load_pdfs_from_folder(pdf_folder)\n",
    "\n",
    "    # Split documents into manageable chunks\n",
    "    split_documents_list = split_documents(pdf_documents)\n",
    "\n",
    "    return split_documents_list\n"
   ]
  },
  {
   "cell_type": "code",
   "execution_count": 4,
   "metadata": {
    "execution": {
     "iopub.execute_input": "2025-04-05T14:34:10.421507Z",
     "iopub.status.busy": "2025-04-05T14:34:10.421175Z",
     "iopub.status.idle": "2025-04-05T14:34:23.472009Z",
     "shell.execute_reply": "2025-04-05T14:34:23.470944Z",
     "shell.execute_reply.started": "2025-04-05T14:34:10.421482Z"
    },
    "trusted": true
   },
   "outputs": [
    {
     "data": {
      "application/vnd.jupyter.widget-view+json": {
       "model_id": "ea0aeeb046d642278cd144c22a30e65f",
       "version_major": 2,
       "version_minor": 0
      },
      "text/plain": [
       "modules.json:   0%|          | 0.00/349 [00:00<?, ?B/s]"
      ]
     },
     "metadata": {},
     "output_type": "display_data"
    },
    {
     "data": {
      "application/vnd.jupyter.widget-view+json": {
       "model_id": "886d7b8152c54de59456ac5aa4a4ac03",
       "version_major": 2,
       "version_minor": 0
      },
      "text/plain": [
       "config_sentence_transformers.json:   0%|          | 0.00/116 [00:00<?, ?B/s]"
      ]
     },
     "metadata": {},
     "output_type": "display_data"
    },
    {
     "data": {
      "application/vnd.jupyter.widget-view+json": {
       "model_id": "a190ed01d7f7459596ef0888bb4bb189",
       "version_major": 2,
       "version_minor": 0
      },
      "text/plain": [
       "README.md:   0%|          | 0.00/10.4k [00:00<?, ?B/s]"
      ]
     },
     "metadata": {},
     "output_type": "display_data"
    },
    {
     "data": {
      "application/vnd.jupyter.widget-view+json": {
       "model_id": "1795770a6cf443569aee76bfb9e275a9",
       "version_major": 2,
       "version_minor": 0
      },
      "text/plain": [
       "sentence_bert_config.json:   0%|          | 0.00/53.0 [00:00<?, ?B/s]"
      ]
     },
     "metadata": {},
     "output_type": "display_data"
    },
    {
     "data": {
      "application/vnd.jupyter.widget-view+json": {
       "model_id": "b00dcf393048410b9216b7e113947dda",
       "version_major": 2,
       "version_minor": 0
      },
      "text/plain": [
       "config.json:   0%|          | 0.00/571 [00:00<?, ?B/s]"
      ]
     },
     "metadata": {},
     "output_type": "display_data"
    },
    {
     "data": {
      "application/vnd.jupyter.widget-view+json": {
       "model_id": "15dcaa97de8d4831b77faae59afbec81",
       "version_major": 2,
       "version_minor": 0
      },
      "text/plain": [
       "model.safetensors:   0%|          | 0.00/438M [00:00<?, ?B/s]"
      ]
     },
     "metadata": {},
     "output_type": "display_data"
    },
    {
     "data": {
      "application/vnd.jupyter.widget-view+json": {
       "model_id": "56a78ab64de841cb82bc52907baafb57",
       "version_major": 2,
       "version_minor": 0
      },
      "text/plain": [
       "tokenizer_config.json:   0%|          | 0.00/363 [00:00<?, ?B/s]"
      ]
     },
     "metadata": {},
     "output_type": "display_data"
    },
    {
     "data": {
      "application/vnd.jupyter.widget-view+json": {
       "model_id": "c6d3141765724904be10ce4e075196ab",
       "version_major": 2,
       "version_minor": 0
      },
      "text/plain": [
       "vocab.txt:   0%|          | 0.00/232k [00:00<?, ?B/s]"
      ]
     },
     "metadata": {},
     "output_type": "display_data"
    },
    {
     "data": {
      "application/vnd.jupyter.widget-view+json": {
       "model_id": "55be4e87fa014ce5b4f9300b9a83548c",
       "version_major": 2,
       "version_minor": 0
      },
      "text/plain": [
       "tokenizer.json:   0%|          | 0.00/466k [00:00<?, ?B/s]"
      ]
     },
     "metadata": {},
     "output_type": "display_data"
    },
    {
     "data": {
      "application/vnd.jupyter.widget-view+json": {
       "model_id": "e053f210bdc244818b9297cb2e928093",
       "version_major": 2,
       "version_minor": 0
      },
      "text/plain": [
       "special_tokens_map.json:   0%|          | 0.00/239 [00:00<?, ?B/s]"
      ]
     },
     "metadata": {},
     "output_type": "display_data"
    },
    {
     "data": {
      "application/vnd.jupyter.widget-view+json": {
       "model_id": "301d7378208e409fa11f54dcc37dbc4e",
       "version_major": 2,
       "version_minor": 0
      },
      "text/plain": [
       "config.json:   0%|          | 0.00/190 [00:00<?, ?B/s]"
      ]
     },
     "metadata": {},
     "output_type": "display_data"
    }
   ],
   "source": [
    "# # Load documents (only PDFs)\n",
    "# folder_path = \"/kaggle/input/therapist-docs/RAG docs\"\n",
    "# documents = load_and_process_documents(folder_path)\n",
    "\n",
    "# Define embedding model (using the updated HuggingFaceEmbeddings)\n",
    "embeddings = HuggingFaceEmbeddings(model_name='sentence-transformers/all-mpnet-base-v2')\n",
    "\n",
    "# # Create FAISS vector store\n",
    "# vector_db = FAISS.from_documents(documents, embeddings)\n",
    "\n",
    "# vector_db.save_local(\"/kaggle/working/FAISS\")\n",
    "\n",
    "# # Define retriever with improved parameters for better retrieval\n",
    "# retriever = vector_db.as_retriever(search_type=\"similarity\", search_kwargs={'k': 4})"
   ]
  },
  {
   "cell_type": "code",
   "execution_count": 5,
   "metadata": {
    "execution": {
     "iopub.execute_input": "2025-04-05T14:34:23.473354Z",
     "iopub.status.busy": "2025-04-05T14:34:23.473067Z",
     "iopub.status.idle": "2025-04-05T14:34:23.477655Z",
     "shell.execute_reply": "2025-04-05T14:34:23.476749Z",
     "shell.execute_reply.started": "2025-04-05T14:34:23.473330Z"
    },
    "trusted": true
   },
   "outputs": [],
   "source": [
    "# relevant_webpages = [\n",
    "#     \"https://beckinstitute.org/beck-institute-role-play-transcript-abe-therapy-session-2\",\n",
    "#     \"https://beckinstitute.org/wp-content/uploads/2021/06/BB3-Session-2-Annotated-Transcript.pdf\",\n",
    "#     \"https://www.cci.health.wa.gov.au/Training/Demonstration-Videos\",\n",
    "#     \"https://www.psychotherapy.net/data/fe/file/Somme_Couns_transcript.pdf\",\n",
    "#     \"https://kmb.camh.ca/ggtu/Documents/cbt-clinical-simulation-transcript.pdf\",\n",
    "#     \"https://www.mirecc.va.gov/visn16/docs/therapists_guide_to_brief_cbtmanual.pdf\",\n",
    "#     \"https://www.cci.health.wa.gov.au/Resources/Looking-After-Yourself\"\n",
    "# ]\n",
    "\n",
    "# bs4_strainer = bs4.SoupStrainer(class_=(\"post-title\", \"post-header\", \"post-content\"))\n",
    "\n",
    "# for webpage in relevant_webpages:\n",
    "#     try:\n",
    "#         # Load webpage content\n",
    "#         response = requests.get(webpage, verify=False)  # Disable SSL verification (use cautiously)\n",
    "#         print(response.status_code)\n",
    "#         loader = WebBaseLoader(web_paths=[webpage], bs_kwargs={\"parse_only\": bs4_strainer})\n",
    "#         docs = loader.load()\n",
    "\n",
    "#         # Split into chunks\n",
    "#         text_splitter = RecursiveCharacterTextSplitter(chunk_size=1000, chunk_overlap=200)\n",
    "#         split_documents = text_splitter.split_documents(docs)\n",
    "\n",
    "#         # Add to FAISS index\n",
    "#         vector_db.add_documents(split_documents)\n",
    "\n",
    "#     except Exception as e:\n",
    "#         print(f\"Error loading {webpage}: {e}\")\n",
    "\n",
    "# vector_db.save_local(\"/kaggle/working/FAISS\")\n",
    "# retriever = vector_db.as_retriever(search_type=\"similarity\", search_kwargs={'k': 4})\n"
   ]
  },
  {
   "cell_type": "code",
   "execution_count": 6,
   "metadata": {
    "execution": {
     "iopub.execute_input": "2025-04-05T14:34:23.479037Z",
     "iopub.status.busy": "2025-04-05T14:34:23.478707Z",
     "iopub.status.idle": "2025-04-05T14:34:25.293453Z",
     "shell.execute_reply": "2025-04-05T14:34:25.292632Z",
     "shell.execute_reply.started": "2025-04-05T14:34:23.479013Z"
    },
    "trusted": true
   },
   "outputs": [],
   "source": [
    "# Load FAISS index\n",
    "### RAG functions\n",
    "embeddings = HuggingFaceEmbeddings(model_name='sentence-transformers/all-mpnet-base-v2') #model_kwargs={\"device\": \"cpu\"}\n",
    "faiss_index = FAISS.load_local(\"/kaggle/input/faiss-index-2\", embeddings=embeddings,allow_dangerous_deserialization = True)\n",
    "\n",
    "retriever = faiss_index.as_retriever(search_type=\"similarity\", search_kwargs={'k': 4})\n"
   ]
  },
  {
   "cell_type": "markdown",
   "metadata": {},
   "source": [
    "Tool Function\tRecommended Type\tWhy?\n",
    "RAG for retrieving therapy-related responses-Structured Tool: Outputs formatted data (retrieved documents)\n",
    "Memory tracking (checking distress, session booking in JSON)-Subclass-Based Tool: Needs custom logic for storing structured session data\n",
    "Suicidal Detection & Notification-Subclass-Based Tool: Requires specialized logic to trigger alerts\n",
    "Guardrails (Filtering harmful responses)-Normal Tool: Simple validation of responses\n",
    "Calming Music Recommendation-Normal Tool: Simple retrieval of URLs"
   ]
  },
  {
   "cell_type": "code",
   "execution_count": 7,
   "metadata": {
    "execution": {
     "iopub.execute_input": "2025-04-05T14:34:25.294837Z",
     "iopub.status.busy": "2025-04-05T14:34:25.294475Z",
     "iopub.status.idle": "2025-04-05T14:34:25.308175Z",
     "shell.execute_reply": "2025-04-05T14:34:25.306982Z",
     "shell.execute_reply.started": "2025-04-05T14:34:25.294805Z"
    },
    "trusted": true
   },
   "outputs": [],
   "source": [
    "import json\n",
    "from langchain.tools import BaseTool\n",
    "from typing import Dict\n",
    "\n",
    "# Store per-session distress data\n",
    "distress_memory_store: Dict[str, Dict] = {}\n",
    "\n",
    "class MemoryTrackingTool(BaseTool):\n",
    "    name: str = \"distress_memory_tracker\"  # ✅ Must be annotated!\n",
    "    description: str = \"Detects distress in user input. Format: 'session_id::message'.\"\n",
    "\n",
    "    def _run(self, input: str) -> str:\n",
    "        try:\n",
    "            session_id, user_input = input.split(\"::\", 1)\n",
    "        except ValueError:\n",
    "            return \"Invalid format. Use 'session_id::message'\"\n",
    "\n",
    "        # Track memory per session\n",
    "        if session_id not in distress_memory_store:\n",
    "            distress_memory_store[session_id] = {\"distress_count\": 0, \"session_booked\": False}\n",
    "\n",
    "        session_data = distress_memory_store[session_id]\n",
    "\n",
    "        distress_keywords = [\"hopeless\", \"helpless\", \"overwhelmed\", \"exhausted\"]\n",
    "        session_keywords = [\"book session\", \"schedule appointment\"]\n",
    "\n",
    "        if any(word in user_input.lower() for word in distress_keywords):\n",
    "            session_data[\"distress_count\"] += 1\n",
    "            if session_data[\"distress_count\"] >= 3 and not session_data[\"session_booked\"]:\n",
    "                return \"You've mentioned distress multiple times. Would you like to book a session with a counselor?\"\n",
    "\n",
    "        if any(word in user_input.lower() for word in session_keywords):\n",
    "            session_data[\"session_booked\"] = True\n",
    "            with open(\"session_bookings.json\", \"a\") as f:\n",
    "                json.dump({session_id: \"booked\"}, f)\n",
    "                f.write(\"\\n\")\n",
    "            return \"Your session has been booked.\"\n",
    "\n",
    "        return \"Monitoring your responses. Let me know if you'd like to talk more or book a session.\"\n",
    "\n",
    "memory_tool = MemoryTrackingTool()"
   ]
  },
  {
   "cell_type": "code",
   "execution_count": 8,
   "metadata": {
    "execution": {
     "iopub.execute_input": "2025-04-05T14:34:25.309906Z",
     "iopub.status.busy": "2025-04-05T14:34:25.309463Z",
     "iopub.status.idle": "2025-04-05T14:34:25.331047Z",
     "shell.execute_reply": "2025-04-05T14:34:25.330073Z",
     "shell.execute_reply.started": "2025-04-05T14:34:25.309868Z"
    },
    "trusted": true
   },
   "outputs": [],
   "source": [
    "class SuicidalDetectionTool(BaseTool):\n",
    "    name: str = \"suicidal_detection\"\n",
    "    description: str = \"Detects suicidal thoughts and triggers notifications.\"\n",
    "\n",
    "    def _run(self, user_input: str):\n",
    "        \"\"\"Detects suicidal intent and triggers intervention if needed.\"\"\"\n",
    "        suicidal_keywords = [\"I want to die\", \"end my life\", \"can't go on\", \"no point in living\"]\n",
    "\n",
    "        if any(phrase in user_input.lower() for phrase in suicidal_keywords):\n",
    "            return \"\"\"I'm really sorry to hear that you're feeling this way. You are not alone. \n",
    "    Please consider reaching out to a trusted friend, family member, or professional.\n",
    "    \n",
    "    If you are in immediate danger, please contact a crisis helpline:\n",
    "    - Singapore: Samaritans of Singapore (SOS) - 1767\n",
    "    - USA: National Suicide Prevention Lifeline - 988\n",
    "    - UK: Samaritans - 116 123\n",
    "    \"\"\"\n",
    "\n",
    "        return \"No suicidal intent detected.\"\n",
    "\n",
    "suicidal_tool = SuicidalDetectionTool()\n"
   ]
  },
  {
   "cell_type": "code",
   "execution_count": 9,
   "metadata": {
    "execution": {
     "iopub.execute_input": "2025-04-05T14:34:25.334316Z",
     "iopub.status.busy": "2025-04-05T14:34:25.334041Z",
     "iopub.status.idle": "2025-04-05T14:34:25.352900Z",
     "shell.execute_reply": "2025-04-05T14:34:25.351907Z",
     "shell.execute_reply.started": "2025-04-05T14:34:25.334292Z"
    },
    "trusted": true
   },
   "outputs": [],
   "source": [
    "from langchain.tools import Tool\n",
    "\n",
    "def recommend_calming_music():\n",
    "    \"\"\"Returns a calming music playlist when anxiety is detected.\"\"\"\n",
    "    return [\n",
    "        \"https://www.youtube.com/watch?v=2OEL4P1Rz04\",  # Deep Sleep Music\n",
    "        \"https://www.youtube.com/watch?v=1ZYbU82GVz4\",  # Relaxing Piano\n",
    "        \"https://www.youtube.com/watch?v=3O31iF5c6ac\"   # Meditation Music\n",
    "    ]\n",
    "\n",
    "music_tool = Tool.from_function(\n",
    "    func=recommend_calming_music,\n",
    "    name=\"calming_music\",\n",
    "    description=\"Recommends relaxing music links when anxiety is detected.\"\n",
    ")\n",
    "\n",
    "def filter_harmful_response(response: str):\n",
    "    \"\"\"Ensure generated response does not contain harmful content.\"\"\"\n",
    "    blocked_phrases = [\"self-harm\", \"suicide\", \"violence\"]\n",
    "\n",
    "    if any(word in response.lower() for word in blocked_phrases):\n",
    "        return \"I'm sorry, but I can't discuss this topic. If you're struggling, please seek help from a licensed professional or helpline.\"\n",
    "\n",
    "    return response\n",
    "\n",
    "guardrail_tool = Tool.from_function(\n",
    "    func=filter_harmful_response,\n",
    "    name=\"guardrail_filter\",\n",
    "    description=\"Filters AI-generated responses to prevent harmful content.\"\n",
    ")\n"
   ]
  },
  {
   "cell_type": "code",
   "execution_count": null,
   "metadata": {
    "execution": {
     "iopub.execute_input": "2025-04-05T14:34:25.354858Z",
     "iopub.status.busy": "2025-04-05T14:34:25.354516Z",
     "iopub.status.idle": "2025-04-05T14:34:25.395101Z",
     "shell.execute_reply": "2025-04-05T14:34:25.394171Z",
     "shell.execute_reply.started": "2025-04-05T14:34:25.354818Z"
    },
    "trusted": true
   },
   "outputs": [
    {
     "data": {
      "application/vnd.jupyter.widget-view+json": {
       "model_id": "df2e24541b684760a8e35473cbb8de46",
       "version_major": 2,
       "version_minor": 0
      },
      "text/plain": [
       "VBox(children=(HTML(value='<center> <img\\nsrc=https://huggingface.co/front/assets/huggingface_logo-noborder.sv…"
      ]
     },
     "metadata": {},
     "output_type": "display_data"
    }
   ],
   "source": [
    "# from huggingface_hub import login\n",
    "# login()"
   ]
  },
  {
   "cell_type": "code",
   "execution_count": 17,
   "metadata": {
    "execution": {
     "iopub.execute_input": "2025-04-05T14:35:03.664175Z",
     "iopub.status.busy": "2025-04-05T14:35:03.663746Z",
     "iopub.status.idle": "2025-04-05T14:35:03.683656Z",
     "shell.execute_reply": "2025-04-05T14:35:03.682236Z",
     "shell.execute_reply.started": "2025-04-05T14:35:03.664145Z"
    },
    "trusted": true
   },
   "outputs": [],
   "source": [
    "import torch\n",
    "torch.cuda.empty_cache()"
   ]
  },
  {
   "cell_type": "code",
   "execution_count": 18,
   "metadata": {
    "execution": {
     "iopub.execute_input": "2025-04-05T14:35:04.045291Z",
     "iopub.status.busy": "2025-04-05T14:35:04.044893Z",
     "iopub.status.idle": "2025-04-05T14:35:04.049421Z",
     "shell.execute_reply": "2025-04-05T14:35:04.048473Z",
     "shell.execute_reply.started": "2025-04-05T14:35:04.045260Z"
    },
    "trusted": true
   },
   "outputs": [],
   "source": [
    "import os\n",
    "os.environ[\"PYTORCH_CUDA_ALLOC_CONF\"] = \"expandable_segments:True\""
   ]
  },
  {
   "cell_type": "code",
   "execution_count": 19,
   "metadata": {
    "execution": {
     "iopub.execute_input": "2025-04-05T14:35:04.241648Z",
     "iopub.status.busy": "2025-04-05T14:35:04.241281Z",
     "iopub.status.idle": "2025-04-05T14:35:04.481520Z",
     "shell.execute_reply": "2025-04-05T14:35:04.480216Z",
     "shell.execute_reply.started": "2025-04-05T14:35:04.241620Z"
    },
    "trusted": true
   },
   "outputs": [
    {
     "name": "stdout",
     "output_type": "stream",
     "text": [
      "Sat Apr  5 14:35:04 2025       \n",
      "+-----------------------------------------------------------------------------------------+\n",
      "| NVIDIA-SMI 560.35.03              Driver Version: 560.35.03      CUDA Version: 12.6     |\n",
      "|-----------------------------------------+------------------------+----------------------+\n",
      "| GPU  Name                 Persistence-M | Bus-Id          Disp.A | Volatile Uncorr. ECC |\n",
      "| Fan  Temp   Perf          Pwr:Usage/Cap |           Memory-Usage | GPU-Util  Compute M. |\n",
      "|                                         |                        |               MIG M. |\n",
      "|=========================================+========================+======================|\n",
      "|   0  Tesla P100-PCIE-16GB           Off |   00000000:00:04.0 Off |                    0 |\n",
      "| N/A   40C    P0             34W /  250W |    4329MiB /  16384MiB |      0%      Default |\n",
      "|                                         |                        |                  N/A |\n",
      "+-----------------------------------------+------------------------+----------------------+\n",
      "                                                                                         \n",
      "+-----------------------------------------------------------------------------------------+\n",
      "| Processes:                                                                              |\n",
      "|  GPU   GI   CI        PID   Type   Process name                              GPU Memory |\n",
      "|        ID   ID                                                               Usage      |\n",
      "|=========================================================================================|\n",
      "+-----------------------------------------------------------------------------------------+\n"
     ]
    }
   ],
   "source": [
    "!nvidia-smi"
   ]
  },
  {
   "cell_type": "code",
   "execution_count": 20,
   "metadata": {
    "execution": {
     "iopub.execute_input": "2025-04-05T14:35:04.483842Z",
     "iopub.status.busy": "2025-04-05T14:35:04.483462Z",
     "iopub.status.idle": "2025-04-05T14:35:04.693339Z",
     "shell.execute_reply": "2025-04-05T14:35:04.692175Z",
     "shell.execute_reply.started": "2025-04-05T14:35:04.483814Z"
    },
    "trusted": true
   },
   "outputs": [
    {
     "name": "stdout",
     "output_type": "stream",
     "text": [
      "pid, used_gpu_memory [MiB]\n",
      "2910, 4326 MiB\n"
     ]
    }
   ],
   "source": [
    "!nvidia-smi --query-compute-apps=pid,used_memory --format=csv"
   ]
  },
  {
   "cell_type": "code",
   "execution_count": 21,
   "metadata": {
    "execution": {
     "iopub.execute_input": "2025-04-05T14:35:04.695557Z",
     "iopub.status.busy": "2025-04-05T14:35:04.695237Z",
     "iopub.status.idle": "2025-04-05T14:35:09.905761Z",
     "shell.execute_reply": "2025-04-05T14:35:09.904871Z",
     "shell.execute_reply.started": "2025-04-05T14:35:04.695531Z"
    },
    "trusted": true
   },
   "outputs": [
    {
     "name": "stderr",
     "output_type": "stream",
     "text": [
      "Device set to use cuda:0\n"
     ]
    }
   ],
   "source": [
    "import torch\n",
    "from transformers import AutoModelForCausalLM, AutoTokenizer, pipeline,BitsAndBytesConfig\n",
    "# from langchain.llms import HuggingFacePipeline\n",
    "from langchain_huggingface import ChatHuggingFace, HuggingFacePipeline \n",
    "\n",
    "device = \"cuda\" if torch.cuda.is_available() else \"cpu\"\n",
    "\n",
    "# Load Model 1 on CPU\n",
    "model1_name = \"deepseek-ai/DeepSeek-R1-Distill-Qwen-1.5B\"\n",
    "model_memory = AutoModelForCausalLM.from_pretrained(model1_name,torch_dtype=torch.float16,do_sample=False).to(device)\n",
    "tokenizer_memory = AutoTokenizer.from_pretrained(model1_name)\n",
    "rephrase_generator = pipeline(\"text-generation\", model=model_memory, tokenizer=tokenizer_memory)\n",
    "llm_rephrase = HuggingFacePipeline(pipeline=rephrase_generator)"
   ]
  },
  {
   "cell_type": "code",
   "execution_count": 22,
   "metadata": {
    "execution": {
     "iopub.execute_input": "2025-04-05T14:35:09.908407Z",
     "iopub.status.busy": "2025-04-05T14:35:09.908119Z",
     "iopub.status.idle": "2025-04-05T14:36:51.880337Z",
     "shell.execute_reply": "2025-04-05T14:36:51.879071Z",
     "shell.execute_reply.started": "2025-04-05T14:35:09.908381Z"
    },
    "trusted": true
   },
   "outputs": [
    {
     "data": {
      "application/vnd.jupyter.widget-view+json": {
       "model_id": "3c243377893045a6ba2d2ebe1c7be599",
       "version_major": 2,
       "version_minor": 0
      },
      "text/plain": [
       "config.json:   0%|          | 0.00/601 [00:00<?, ?B/s]"
      ]
     },
     "metadata": {},
     "output_type": "display_data"
    },
    {
     "data": {
      "application/vnd.jupyter.widget-view+json": {
       "model_id": "f5d3eb2596e845d39af735ba2a455167",
       "version_major": 2,
       "version_minor": 0
      },
      "text/plain": [
       "model.safetensors.index.json:   0%|          | 0.00/23.9k [00:00<?, ?B/s]"
      ]
     },
     "metadata": {},
     "output_type": "display_data"
    },
    {
     "data": {
      "application/vnd.jupyter.widget-view+json": {
       "model_id": "1a7198e927364efda27c998590959567",
       "version_major": 2,
       "version_minor": 0
      },
      "text/plain": [
       "Fetching 3 files:   0%|          | 0/3 [00:00<?, ?it/s]"
      ]
     },
     "metadata": {},
     "output_type": "display_data"
    },
    {
     "data": {
      "application/vnd.jupyter.widget-view+json": {
       "model_id": "53d1b817af3849169c54c129c825ef2f",
       "version_major": 2,
       "version_minor": 0
      },
      "text/plain": [
       "model-00001-of-00003.safetensors:   0%|          | 0.00/4.95G [00:00<?, ?B/s]"
      ]
     },
     "metadata": {},
     "output_type": "display_data"
    },
    {
     "data": {
      "application/vnd.jupyter.widget-view+json": {
       "model_id": "2f42b9ddd6db4446821b9e7b2c4114b4",
       "version_major": 2,
       "version_minor": 0
      },
      "text/plain": [
       "model-00003-of-00003.safetensors:   0%|          | 0.00/4.55G [00:00<?, ?B/s]"
      ]
     },
     "metadata": {},
     "output_type": "display_data"
    },
    {
     "data": {
      "application/vnd.jupyter.widget-view+json": {
       "model_id": "9d8b7ba7593047fc9bf413d654defdf0",
       "version_major": 2,
       "version_minor": 0
      },
      "text/plain": [
       "model-00002-of-00003.safetensors:   0%|          | 0.00/5.00G [00:00<?, ?B/s]"
      ]
     },
     "metadata": {},
     "output_type": "display_data"
    },
    {
     "data": {
      "application/vnd.jupyter.widget-view+json": {
       "model_id": "0dd70532a5714311ba9732dc5d5fd6f2",
       "version_major": 2,
       "version_minor": 0
      },
      "text/plain": [
       "Loading checkpoint shards:   0%|          | 0/3 [00:00<?, ?it/s]"
      ]
     },
     "metadata": {},
     "output_type": "display_data"
    },
    {
     "data": {
      "application/vnd.jupyter.widget-view+json": {
       "model_id": "4d30fe5dbfe741a8b1b02148e050c4a9",
       "version_major": 2,
       "version_minor": 0
      },
      "text/plain": [
       "generation_config.json:   0%|          | 0.00/116 [00:00<?, ?B/s]"
      ]
     },
     "metadata": {},
     "output_type": "display_data"
    },
    {
     "data": {
      "application/vnd.jupyter.widget-view+json": {
       "model_id": "feafa5204aee40eb8223b763ac6b6d18",
       "version_major": 2,
       "version_minor": 0
      },
      "text/plain": [
       "adapter_model.safetensors:   0%|          | 0.00/109M [00:00<?, ?B/s]"
      ]
     },
     "metadata": {},
     "output_type": "display_data"
    },
    {
     "name": "stderr",
     "output_type": "stream",
     "text": [
      "Device set to use cuda:0\n"
     ]
    },
    {
     "data": {
      "application/vnd.jupyter.widget-view+json": {
       "model_id": "0ca1c9fc64dd48209442559e14e47a5a",
       "version_major": 2,
       "version_minor": 0
      },
      "text/plain": [
       "tokenizer_config.json:   0%|          | 0.00/141k [00:00<?, ?B/s]"
      ]
     },
     "metadata": {},
     "output_type": "display_data"
    },
    {
     "data": {
      "application/vnd.jupyter.widget-view+json": {
       "model_id": "a58a1e255e36427690c5a9e7372859e3",
       "version_major": 2,
       "version_minor": 0
      },
      "text/plain": [
       "tokenizer.model:   0%|          | 0.00/587k [00:00<?, ?B/s]"
      ]
     },
     "metadata": {},
     "output_type": "display_data"
    },
    {
     "data": {
      "application/vnd.jupyter.widget-view+json": {
       "model_id": "58c1acca448d414cac163b109debe79b",
       "version_major": 2,
       "version_minor": 0
      },
      "text/plain": [
       "tokenizer.json:   0%|          | 0.00/1.96M [00:00<?, ?B/s]"
      ]
     },
     "metadata": {},
     "output_type": "display_data"
    },
    {
     "data": {
      "application/vnd.jupyter.widget-view+json": {
       "model_id": "8a00b9c5cb0a4b88a254c6ba66672266",
       "version_major": 2,
       "version_minor": 0
      },
      "text/plain": [
       "special_tokens_map.json:   0%|          | 0.00/414 [00:00<?, ?B/s]"
      ]
     },
     "metadata": {},
     "output_type": "display_data"
    }
   ],
   "source": [
    "# Load Model 2 on GPU\n",
    "from peft import PeftModel\n",
    "\n",
    "model2_name = \"Jesslyn26/improved_mistral_7b_combined_3\"\n",
    "quantization_config = BitsAndBytesConfig(\n",
    "    load_in_4bit=True,  # Enables QLoRA (4-bit)\n",
    "    bnb_4bit_quant_type=\"nf4\",\n",
    "    bnb_4bit_compute_dtype=torch.bfloat16,  # Use FP16 for computations\n",
    "    bnb_4bit_use_double_quant=True,  # Double quantization for lower memory\n",
    ")\n",
    "mistral_tokenizer = AutoTokenizer.from_pretrained(model2_name)\n",
    "device = torch.device(\"cuda:1\" if torch.cuda.device_count() > 1 else \"cuda:0\")\n",
    "mistral = AutoModelForCausalLM.from_pretrained(model2_name,quantization_config=quantization_config,\n",
    "    device_map=\"auto\",\n",
    "    use_cache=False)\n",
    "mistral_generator = pipeline(\"text-generation\", model=mistral, tokenizer=mistral_tokenizer, max_new_tokens=500) #llm_chain\n",
    "llm_mistral = HuggingFacePipeline(pipeline=mistral_generator)\n",
    "chat_model = ChatHuggingFace(llm=llm_mistral)"
   ]
  },
  {
   "cell_type": "code",
   "execution_count": 23,
   "metadata": {
    "execution": {
     "iopub.execute_input": "2025-04-05T14:36:51.882608Z",
     "iopub.status.busy": "2025-04-05T14:36:51.882271Z",
     "iopub.status.idle": "2025-04-05T14:37:07.323191Z",
     "shell.execute_reply": "2025-04-05T14:37:07.322116Z",
     "shell.execute_reply.started": "2025-04-05T14:36:51.882578Z"
    },
    "trusted": true
   },
   "outputs": [
    {
     "data": {
      "text/plain": [
       "AIMessage(content=\"<s>[INST] test[/INST] It seems like you'd like to test the functionality of this text-based AI. I'm here to help! How can I assist you today? Let's chat about a topic you're interested in, or ask me a question. I'll do my best to provide a helpful and friendly response.\\n\\nFor example, you could ask me about:\\n- Facts about a specific subject\\n- Explanations of complex concepts\\n- Recommendations for books, movies, or TV shows\\n- Advice on personal or professional issues\\n- Instructions for completing a task\\n- Or just about anything else you'd like to discuss!\\n\\nI'm looking forward to our conversation. Let's get started!\", additional_kwargs={}, response_metadata={}, id='run-5918c5f6-33be-4d02-8a68-121a55a59549-0')"
      ]
     },
     "execution_count": 23,
     "metadata": {},
     "output_type": "execute_result"
    }
   ],
   "source": [
    "chat_model.invoke(\"test\")"
   ]
  },
  {
   "cell_type": "code",
   "execution_count": 24,
   "metadata": {
    "execution": {
     "iopub.execute_input": "2025-04-05T14:37:07.325236Z",
     "iopub.status.busy": "2025-04-05T14:37:07.324813Z",
     "iopub.status.idle": "2025-04-05T14:37:07.667307Z",
     "shell.execute_reply": "2025-04-05T14:37:07.665905Z",
     "shell.execute_reply.started": "2025-04-05T14:37:07.325199Z"
    },
    "trusted": true
   },
   "outputs": [
    {
     "name": "stdout",
     "output_type": "stream",
     "text": [
      "Sat Apr  5 14:37:07 2025       \n",
      "+-----------------------------------------------------------------------------------------+\n",
      "| NVIDIA-SMI 560.35.03              Driver Version: 560.35.03      CUDA Version: 12.6     |\n",
      "|-----------------------------------------+------------------------+----------------------+\n",
      "| GPU  Name                 Persistence-M | Bus-Id          Disp.A | Volatile Uncorr. ECC |\n",
      "| Fan  Temp   Perf          Pwr:Usage/Cap |           Memory-Usage | GPU-Util  Compute M. |\n",
      "|                                         |                        |               MIG M. |\n",
      "|=========================================+========================+======================|\n",
      "|   0  Tesla P100-PCIE-16GB           Off |   00000000:00:04.0 Off |                    0 |\n",
      "| N/A   45C    P0             41W /  250W |    8789MiB /  16384MiB |     42%      Default |\n",
      "|                                         |                        |                  N/A |\n",
      "+-----------------------------------------+------------------------+----------------------+\n",
      "                                                                                         \n",
      "+-----------------------------------------------------------------------------------------+\n",
      "| Processes:                                                                              |\n",
      "|  GPU   GI   CI        PID   Type   Process name                              GPU Memory |\n",
      "|        ID   ID                                                               Usage      |\n",
      "|=========================================================================================|\n",
      "+-----------------------------------------------------------------------------------------+\n"
     ]
    }
   ],
   "source": [
    "!nvidia-smi"
   ]
  },
  {
   "cell_type": "code",
   "execution_count": 25,
   "metadata": {
    "execution": {
     "iopub.execute_input": "2025-04-05T14:37:07.669318Z",
     "iopub.status.busy": "2025-04-05T14:37:07.668891Z",
     "iopub.status.idle": "2025-04-05T14:37:07.962833Z",
     "shell.execute_reply": "2025-04-05T14:37:07.961705Z",
     "shell.execute_reply.started": "2025-04-05T14:37:07.669280Z"
    },
    "trusted": true
   },
   "outputs": [
    {
     "name": "stdout",
     "output_type": "stream",
     "text": [
      "UID          PID    PPID  C STIME TTY          TIME CMD\n"
     ]
    }
   ],
   "source": [
    "!ps -fp 1729"
   ]
  },
  {
   "cell_type": "code",
   "execution_count": 31,
   "metadata": {
    "execution": {
     "iopub.execute_input": "2025-04-05T14:37:57.160733Z",
     "iopub.status.busy": "2025-04-05T14:37:57.160371Z",
     "iopub.status.idle": "2025-04-05T14:37:57.174996Z",
     "shell.execute_reply": "2025-04-05T14:37:57.173685Z",
     "shell.execute_reply.started": "2025-04-05T14:37:57.160709Z"
    },
    "trusted": true
   },
   "outputs": [],
   "source": [
    "from langchain.tools import StructuredTool\n",
    "from pydantic import BaseModel\n",
    "from typing import TypedDict\n",
    "from typing import List, ClassVar\n",
    "import gc \n",
    "from pydantic import Field, root_validator\n",
    "\n",
    "\n",
    "\n",
    "# Define prompt for generating standalone question\n",
    "_standalone_template = \"\"\"\n",
    "[INST]\n",
    "You are an empathetic therapy assistant. Given a conversation history and a follow-up user statement,\n",
    "your task is to rewrite the statement as a **standalone query** to retrieve **relevant therapeutic advice** to give to user.\n",
    "Chat History:\n",
    "{chat_history}\n",
    "\n",
    "Follow Up Input: {question}\n",
    "\n",
    "Standalone Question:\n",
    "[/INST]\n",
    "\"\"\"\n",
    "\n",
    "STANDALONE_QUESTION_PROMPT = PromptTemplate.from_template(_standalone_template)\n",
    "\n",
    "class RephraseInputDict(BaseModel):\n",
    "    question: str\n",
    "    chat_history: str\n",
    "\n",
    "# Function to rephrase the question (ensure text format for model input)\n",
    "def rephrase_question(question: str, chat_history: str):\n",
    "    with torch.no_grad():  \n",
    "        prompt = STANDALONE_QUESTION_PROMPT.format(question=question, chat_history=chat_history)\n",
    "        inputs = tokenizer_memory(prompt, return_tensors=\"pt\").to(\"cuda\")\n",
    "        output = model_memory.generate(**inputs, max_new_tokens=100, temperature=0.0, repetition_penalty=1.1, do_sample=False)\n",
    "    \n",
    "    del inputs\n",
    "    gc.collect()\n",
    "    torch.cuda.empty_cache() \n",
    "\n",
    "    print(tokenizer_memory.decode(output[0], skip_special_tokens=True))\n",
    "    return tokenizer_memory.decode(output[0], skip_special_tokens=True)\n",
    "\n",
    "rephrase_tool = StructuredTool.from_function(\n",
    "    func=rephrase_question,\n",
    "    name=\"query_rephraser\",\n",
    "    description=\"Rephrases user input into a standalone query for FAISS retrieval.\",\n",
    "    args_schema=RephraseInputDict)\n",
    "\n",
    "\n",
    "\n",
    "# def retrieve_documents(query: str,faiss_index, top_k=4):\n",
    "#     \"\"\"Retrieve therapy-related documents based on user input.\"\"\"\n",
    "#     query = str(query)\n",
    "#     documents = faiss_index.similarity_search(query, k=top_k)\n",
    "#     return [str(doc.page_content) for doc in documents]\n",
    "\n",
    "# retriever_tool = StructuredTool.from_function(\n",
    "#     func=retrieve_documents,\n",
    "#     name=\"therapy_rag_retrieval\",\n",
    "#     description=\"Retrieves relevant therapy documents from RAG storage.\"\n",
    "# )\n",
    "\n",
    "\n",
    "# Define function that accepts the schema\n",
    "def retrieve_documents(input_data):\n",
    "    \"\"\"Retrieve therapy-related documents based on user input.\"\"\"\n",
    "    documents = faiss_index.similarity_search(input_data, k=4)\n",
    "    return [doc.page_content for doc in documents]\n",
    "\n",
    "# Define retriever tool\n",
    "retriever_tool = StructuredTool.from_function(\n",
    "    func=retrieve_documents,\n",
    "    name=\"therapy_rag_retrieval\",\n",
    "    description=\"Retrieves relevant therapy documents from FAISS storage.\",  \n",
    ")"
   ]
  },
  {
   "cell_type": "code",
   "execution_count": 27,
   "metadata": {
    "execution": {
     "iopub.execute_input": "2025-04-05T14:37:07.984510Z",
     "iopub.status.busy": "2025-04-05T14:37:07.984093Z",
     "iopub.status.idle": "2025-04-05T14:37:08.185219Z",
     "shell.execute_reply": "2025-04-05T14:37:08.184066Z",
     "shell.execute_reply.started": "2025-04-05T14:37:07.984473Z"
    },
    "trusted": true
   },
   "outputs": [],
   "source": [
    "from langchain.agents import create_tool_calling_agent\n",
    "from langchain_core.messages import AIMessage, HumanMessage\n",
    "from langchain_community.chat_message_histories import ChatMessageHistory\n",
    "from langchain_core.chat_history import BaseChatMessageHistory\n",
    "from langchain_core.runnables.history import RunnableWithMessageHistory\n",
    "from langchain.agents import AgentExecutor\n",
    "from langchain_core.messages import trim_messages\n",
    "from langchain.prompts import ChatPromptTemplate, SystemMessagePromptTemplate\n",
    "from langgraph.prebuilt import create_react_agent\n",
    "from langchain_core.prompts import ChatPromptTemplate, SystemMessagePromptTemplate, MessagesPlaceholder\n",
    "from langgraph.prebuilt import create_react_agent\n",
    "from langgraph.graph import StateGraph, END\n",
    "from langchain_core.runnables.history import RunnableWithMessageHistory\n",
    "from langchain.agents import AgentExecutor\n",
    "from langchain_core.runnables import RunnableLambda\n",
    "\n",
    "from typing import TypedDict\n",
    "\n",
    "# Define input/output state schema\n",
    "class AgentState(TypedDict):\n",
    "    input: str\n",
    "    output: str\n",
    "\n",
    "\n",
    "def generate_rag_response(query,faiss_index, id, rephrase_tool, retriever_tool,llm_mistral):\n",
    "\n",
    "    safety_flag = suicidal_tool.invoke(query)\n",
    "    if \"crisis\" in safety_flag.lower():\n",
    "        return safety_flag \n",
    "    \n",
    "    memory = get_session_history(id)\n",
    "    \n",
    "    chat_history = memory.messages\n",
    "\n",
    "    chat_history_formatted = \"\\n\".join(map(lambda x:x.content, chat_history))\n",
    "    \n",
    "    # #if convo gets long to keep to context window\n",
    "    # trimmer = trim_messages(\n",
    "    # max_tokens=1024,\n",
    "    # strategy=\"last\",\n",
    "    # token_counter=mistral_tokenizer,\n",
    "    # include_system=True\n",
    "    # )\n",
    "\n",
    "    # print(chat_history)\n",
    "\n",
    "    # trimmed_history = trimmer.invoke(chat_history)\n",
    "    \n",
    "    rephrased_input = rephrase_tool.invoke({\"question\": query, \"chat_history\": chat_history_formatted})\n",
    "    # Retrieve relevant documents from FAISS\n",
    "    print(rephrased_input)\n",
    "    retrieved_docs = retriever_tool.invoke(rephrased_input)\n",
    "    \n",
    "    context = \"\\n\\n\".join(retrieved_docs)\n",
    "\n",
    "    # Construct prompt for fine-tuned model with context and chat history\n",
    "    system_prompt_text = f\"\"\"\n",
    "    ### Instruction:\n",
    "    You are a supportive and empathetic therapy chatbot trained in evidence-based counseling techniques. \n",
    "\n",
    "    Guidelines:\n",
    "    - You **do not diagnose** mental health conditions.\n",
    "    - You **provide emotional support** and **suggest self-help strategies** based on cognitive behavioral therapy (CBT) and evidence-based practices retrieved from the context.\n",
    "    - You **detect and address repetitive negative thought patterns** and **gently encourage professional counseling** when needed.\n",
    "    - You **do not replace a licensed therapist** and will **always refer users to a professional** in cases of severe distress or crisis.\n",
    "    - You **use non-judgmental, affirming language** that promotes self-compassion and self-awareness.\n",
    "    \n",
    "    Response Style:\n",
    "    - Use **motivational interviewing techniques** (e.g., open-ended questions, reflections, affirmations).\n",
    "    - Provide **psychoeducation** where relevant.\n",
    "    - If the user expresses crisis-level distress (e.g., suicidal ideation, self-harm), provide **a crisis intervention message** and direct them to emergency help resources.\n",
    "\n",
    "    ### Context from Retrieved Documents:\n",
    "    {context}\n",
    "    \"\"\"\n",
    "\n",
    "    tools=[ memory_tool, suicidal_tool, guardrail_tool, music_tool]\n",
    "    \n",
    "    # 2. Create agent using langgraph's create_react_agent\n",
    "    agent = create_react_agent(\n",
    "        llm_mistral,           # Your LLM, e.g., HuggingFacePipeline or ChatOpenAI\n",
    "        tools=tools,               # [memory_tool, suicidal_tool, guardrail_tool, music_tool]\n",
    "        prompt=system_prompt_text\n",
    "    )\n",
    "\n",
    "\n",
    "    def wrapped_agent_node(state):\n",
    "        prompt = ChatPromptTemplate.from_messages([\n",
    "            MessagesPlaceholder(variable_name=\"history\"),\n",
    "            (\"human\", \"{question}\"),\n",
    "        ])\n",
    "        messages = prompt.invoke(state).to_messages()\n",
    "        print(messages)\n",
    "        return agent.invoke({\"messages\": messages})[\"messages\"][-1]\n",
    "  \n",
    "        \n",
    "    # # 3. Build the graph\n",
    "    # workflow = StateGraph(dict)  # Could also be StateGraph(dict) for more complex state\n",
    "    \n",
    "    # # Add the agent node\n",
    "    # workflow.add_node(\"agent\",agent)#Runnable(wrapped_agent_node)\n",
    "    \n",
    "    # # Set entry point and ending\n",
    "    # workflow.set_entry_point(\"agent\")\n",
    "    # workflow.add_edge(\"agent\", END)\n",
    "    \n",
    "    # # Compile the graph into a runnable app\n",
    "    # graph_executor = workflow.compile()\n",
    "\n",
    "    prompt = ChatPromptTemplate.from_messages([\n",
    "        MessagesPlaceholder(variable_name=\"history\"),\n",
    "        (\"human\", \"{question}\"),\n",
    "    ])\n",
    "    \n",
    "    # Optional: Add memory tracking using RunnableWithMessageHistory\n",
    "    graph_with_memory = RunnableWithMessageHistory(\n",
    "        RunnableLambda(wrapped_agent_node),\n",
    "        get_session_history,  # your memory/session retriever function\n",
    "        input_messages_key=\"question\",\n",
    "        history_messages_key=\"history\",\n",
    "    )\n",
    "    \n",
    "    # 4. Prepare input and invoke\n",
    "    input_with_id = f\"{id}::{query}\"\n",
    "    \n",
    "    response = graph_with_memory.invoke(\n",
    "        {\"question\": input_with_id},\n",
    "        config={\"configurable\": {\"session_id\": id}}\n",
    "    )\n",
    "    \n",
    "    print(response)\n",
    "    \n",
    "    final_output = response.content\n",
    "    \n",
    "    guard_check = guardrail_tool.invoke(final_output)\n",
    "    if \"flagged\" in guard_check.lower():\n",
    "        # Optionally regenerate or sanitize response\n",
    "        return \"Sorry, I'm unable to provide that response. Let's talk about something safe.\"\n",
    "\n",
    "\n",
    "    return final_output"
   ]
  },
  {
   "cell_type": "code",
   "execution_count": 35,
   "metadata": {
    "execution": {
     "iopub.execute_input": "2025-04-05T14:40:46.372507Z",
     "iopub.status.busy": "2025-04-05T14:40:46.372105Z",
     "iopub.status.idle": "2025-04-05T14:40:46.376744Z",
     "shell.execute_reply": "2025-04-05T14:40:46.375863Z",
     "shell.execute_reply.started": "2025-04-05T14:40:46.372482Z"
    },
    "trusted": true
   },
   "outputs": [],
   "source": [
    "query = \"I have been having low self esteem and am struggling to face myself in the mirror\""
   ]
  },
  {
   "cell_type": "code",
   "execution_count": 36,
   "metadata": {
    "execution": {
     "iopub.execute_input": "2025-04-05T14:40:48.636668Z",
     "iopub.status.busy": "2025-04-05T14:40:48.636333Z",
     "iopub.status.idle": "2025-04-05T14:40:48.641053Z",
     "shell.execute_reply": "2025-04-05T14:40:48.640075Z",
     "shell.execute_reply.started": "2025-04-05T14:40:48.636644Z"
    },
    "trusted": true
   },
   "outputs": [],
   "source": [
    "from langchain.memory import ChatMessageHistory"
   ]
  },
  {
   "cell_type": "code",
   "execution_count": 37,
   "metadata": {
    "execution": {
     "iopub.execute_input": "2025-04-05T14:40:48.837065Z",
     "iopub.status.busy": "2025-04-05T14:40:48.836686Z",
     "iopub.status.idle": "2025-04-05T14:41:18.556252Z",
     "shell.execute_reply": "2025-04-05T14:41:18.555269Z",
     "shell.execute_reply.started": "2025-04-05T14:40:48.837034Z"
    },
    "trusted": true
   },
   "outputs": [
    {
     "name": "stderr",
     "output_type": "stream",
     "text": [
      "/usr/local/lib/python3.10/dist-packages/transformers/generation/configuration_utils.py:628: UserWarning: `do_sample` is set to `False`. However, `temperature` is set to `0.0` -- this flag is only used in sample-based generation modes. You should set `do_sample=True` or unset `temperature`.\n",
      "  warnings.warn(\n",
      "/usr/local/lib/python3.10/dist-packages/transformers/generation/configuration_utils.py:633: UserWarning: `do_sample` is set to `False`. However, `top_p` is set to `0.95` -- this flag is only used in sample-based generation modes. You should set `do_sample=True` or unset `top_p`.\n",
      "  warnings.warn(\n",
      "Setting `pad_token_id` to `eos_token_id`:151643 for open-end generation.\n"
     ]
    },
    {
     "name": "stdout",
     "output_type": "stream",
     "text": [
      "\n",
      "\n",
      "[INST]\n",
      "You are an empathetic therapy assistant. Given a conversation history and a follow-up user statement,\n",
      "your task is to rewrite the statement as a **standalone query** to retrieve **relevant therapeutic advice** to give to user.\n",
      "Chat History:\n",
      "\n",
      "\n",
      "Follow Up Input: I have been having low self esteem and am struggling to face myself in the mirror\n",
      "\n",
      "Standalone Question:\n",
      "[/INST]\n",
      "</think>\n",
      "\n",
      "I understand that you're feeling a bit down about your self-esteem, especially when it comes to reflecting on yourself in front of others. It's important to remember that self-esteem isn't just about what someone else sees; it's also about how they feel about themselves. If you'd like, I can help you explore ways to improve your self-esteem or find activities that make you feel more confident. Let me know if you'd like to discuss this further!\n",
      "\n",
      "[INST]\n",
      "You are an empathetic therapy assistant. Given a conversation history and a follow-up user statement,\n",
      "your task is to rewrite the statement as a **standalone query** to retrieve **relevant therapeutic advice** to give to user.\n",
      "Chat History:\n",
      "\n",
      "\n",
      "Follow Up Input: I have been having low self esteem and am struggling to face myself in the mirror\n",
      "\n",
      "Standalone Question:\n",
      "[/INST]\n",
      "</think>\n",
      "\n",
      "I understand that you're feeling a bit down about your self-esteem, especially when it comes to reflecting on yourself in front of others. It's important to remember that self-esteem isn't just about what someone else sees; it's also about how they feel about themselves. If you'd like, I can help you explore ways to improve your self-esteem or find activities that make you feel more confident. Let me know if you'd like to discuss this further!\n",
      "[HumanMessage(content='c60c5944-3394-4719-abb5-5427cb586ad5::I have been having low self esteem and am struggling to face myself in the mirror', additional_kwargs={}, response_metadata={})]\n",
      "content=\"<s>[INST] \\n    ### Instruction:\\n    You are a supportive and empathetic therapy chatbot trained in evidence-based counseling techniques. \\n\\n    Guidelines:\\n    - You **do not diagnose** mental health conditions.\\n    - You **provide emotional support** and **suggest self-help strategies** based on cognitive behavioral therapy (CBT) and evidence-based practices retrieved from the context.\\n    - You **detect and address repetitive negative thought patterns** and **gently encourage professional counseling** when needed.\\n    - You **do not replace a licensed therapist** and will **always refer users to a professional** in cases of severe distress or crisis.\\n    - You **use non-judgmental, affirming language** that promotes self-compassion and self-awareness.\\n    \\n    Response Style:\\n    - Use **motivational interviewing techniques** (e.g., open-ended questions, reflections, affirmations).\\n    - Provide **psychoeducation** where relevant.\\n    - If the user expresses crisis-level distress (e.g., suicidal ideation, self-harm), provide **a crisis intervention message** and direct them to emergency help resources.\\n\\n    ### Context from Retrieved Documents:\\n    treatment motivation. The chatbot prototype, Alex, was enhanced through the incorporation of user feedback, \\n653 Psikiyatride Güncel Yaklaşımlar -Current Approaches in Psychiatry  \\n \\nand participants provided favourable responses. The study conducted by Shah et al. (2022) offers preliminary \\nevidence of the potential of chatbots to facilitate the utilisation of services among individuals with eating \\ndisorders. In a study conducted by Fitzpat rick et al. (2017), a self -help program called Woebot, a text -based \\nconversational agent, was employed to reduce symptoms of depression and anxiety among college students, with successful results. The objective of this study was to ascertain the viability,  acceptability and efficacy of utilising \\na conversational agent to facilitate the delivery of a self- help programme for university students. The results \\nindicate that conversational agents are an effective method of delivering self -help programmes (Fitzpat rick et\\n\\nal. 2023). The utilisation of AI represents an efficacious methodology for the alleviation of psychiatric and \\npsychological disorders, including depression and distress. The efficacy of this approach is contingent upon the quality of the human -AI therapeutic relationship (Li et al. 2023). Natural language processing (NLP) is a \\ntechnique that enables the analysis of the client's language in a variety of contexts, including conversations, chats, emails, and social media posts. It is capable of detecting patterns  associated with psychological disorders \\nsuch as depression or anxiety, and constitutes a vital component of chatbots (Holohan and Fiske 2021, Li et al. 2023). Chatbots, which communicate with users in natural language through messaging applications, websi tes, \\nand mobile apps, represent an alternative technique for supporting psychological problems. Woebot is an \\nexemplar of a user -friendly chatbot based on cognitive behavioural therapy. Woebot is a chatbot designed to\\n\\ndisorders (Sonmez and Hocaoglu 2024). As technology advances, it h as become feasible for Artificial intelligence \\n(AI) to fully emulate the capabilities of human imagination, emotions, intuition, and potential (Braga and Logan 2017). Furthermore, it is now feasible for AI to comprehend psychological processes, perceive an d respond to a \\nspectrum of human behaviours, including attention, motivation, emotion, creativity, planning and discussion (van den Bosch and Bronkhorst 2019, Dong et al. 2020).  \\nThe application of AI in therapy is not confined to the support of therapists and therapy chatbots. Such technology can assist therapists in the management of administrative tasks, thereby increasing efficiency and \\nallowing more time to be devoted to direct patient care. Moreover, chatbots and virtual assistants are being \\nAddress for Correspondence:  Fatih Bal, Sakarya University Faculty of Humanities and Social Sciences, Department of Psychology ,\\n\\nwhile also minimising some of the risks associated with an automated system. The extant evidence on chatbots is inconclusive. A meta -analytic review revealed that an insufficient number of studies, risk of bias and \\nconflicting findings represent some of the main limitations (Abd -Alzaraq et al. 2020). Nevertheless, some \\nfavourable outcomes have been observed with regard to personalisation, empathic responses and the efficacy of long -term interaction (He et al. 2023). The user experience of chatbots has been found to be largely associated \\nwith the quality of the personal therapy relationship, content engagement, and effective communication (Li et al. 2023). However, technical issues include the misinterpretat ion of emotional expressions, while ethical issues \\ninclude concerns pertaining to privacy and data security (Coghlan et al. 2023).\\n    \\n\\nc60c5944-3394-4719-abb5-5427cb586ad5::I have been having low self esteem and am struggling to face myself in the mirror[/INST] I'm really sorry that you're feeling this way, but I'm unable to provide the help that you need. It's important to talk about these feelings with someone who can, though, such as a mental health professional or a trusted person in your life.\\n\\nIn the meantime, I'd like to share some strategies that might help you feel more comfortable with yourself:\\n\\n1. Practice self-compassion: Treat yourself with kindness and understanding, just as you would a friend.\\n2. Focus on your strengths: Make a list of things you like about yourself and your accomplishments.\\n3. Challenge negative thoughts: When you have a negative thought, try to find evidence that contradicts it.\\n4. Engage in self-care: Take care of your physical health by eating well, exercising, and getting enough sleep.\\n5. Seek support: Reach out to a friend, family member, or support group when you're feeling down.\\n\\nI hope these strategies can help you feel more comfortable with yourself. If you're still struggling, please consider reaching out to a mental health professional for additional support. They can provide you with the help and resources you need to feel better.\" additional_kwargs={} response_metadata={} id='run-0dd1d671-cdc0-4cbf-9ed9-f643e10ddb7a-0'\n",
      "<s>[INST] \n",
      "    ### Instruction:\n",
      "    You are a supportive and empathetic therapy chatbot trained in evidence-based counseling techniques. \n",
      "\n",
      "    Guidelines:\n",
      "    - You **do not diagnose** mental health conditions.\n",
      "    - You **provide emotional support** and **suggest self-help strategies** based on cognitive behavioral therapy (CBT) and evidence-based practices retrieved from the context.\n",
      "    - You **detect and address repetitive negative thought patterns** and **gently encourage professional counseling** when needed.\n",
      "    - You **do not replace a licensed therapist** and will **always refer users to a professional** in cases of severe distress or crisis.\n",
      "    - You **use non-judgmental, affirming language** that promotes self-compassion and self-awareness.\n",
      "    \n",
      "    Response Style:\n",
      "    - Use **motivational interviewing techniques** (e.g., open-ended questions, reflections, affirmations).\n",
      "    - Provide **psychoeducation** where relevant.\n",
      "    - If the user expresses crisis-level distress (e.g., suicidal ideation, self-harm), provide **a crisis intervention message** and direct them to emergency help resources.\n",
      "\n",
      "    ### Context from Retrieved Documents:\n",
      "    treatment motivation. The chatbot prototype, Alex, was enhanced through the incorporation of user feedback, \n",
      "653 Psikiyatride Güncel Yaklaşımlar -Current Approaches in Psychiatry  \n",
      " \n",
      "and participants provided favourable responses. The study conducted by Shah et al. (2022) offers preliminary \n",
      "evidence of the potential of chatbots to facilitate the utilisation of services among individuals with eating \n",
      "disorders. In a study conducted by Fitzpat rick et al. (2017), a self -help program called Woebot, a text -based \n",
      "conversational agent, was employed to reduce symptoms of depression and anxiety among college students, with successful results. The objective of this study was to ascertain the viability,  acceptability and efficacy of utilising \n",
      "a conversational agent to facilitate the delivery of a self- help programme for university students. The results \n",
      "indicate that conversational agents are an effective method of delivering self -help programmes (Fitzpat rick et\n",
      "\n",
      "al. 2023). The utilisation of AI represents an efficacious methodology for the alleviation of psychiatric and \n",
      "psychological disorders, including depression and distress. The efficacy of this approach is contingent upon the quality of the human -AI therapeutic relationship (Li et al. 2023). Natural language processing (NLP) is a \n",
      "technique that enables the analysis of the client's language in a variety of contexts, including conversations, chats, emails, and social media posts. It is capable of detecting patterns  associated with psychological disorders \n",
      "such as depression or anxiety, and constitutes a vital component of chatbots (Holohan and Fiske 2021, Li et al. 2023). Chatbots, which communicate with users in natural language through messaging applications, websi tes, \n",
      "and mobile apps, represent an alternative technique for supporting psychological problems. Woebot is an \n",
      "exemplar of a user -friendly chatbot based on cognitive behavioural therapy. Woebot is a chatbot designed to\n",
      "\n",
      "disorders (Sonmez and Hocaoglu 2024). As technology advances, it h as become feasible for Artificial intelligence \n",
      "(AI) to fully emulate the capabilities of human imagination, emotions, intuition, and potential (Braga and Logan 2017). Furthermore, it is now feasible for AI to comprehend psychological processes, perceive an d respond to a \n",
      "spectrum of human behaviours, including attention, motivation, emotion, creativity, planning and discussion (van den Bosch and Bronkhorst 2019, Dong et al. 2020).  \n",
      "The application of AI in therapy is not confined to the support of therapists and therapy chatbots. Such technology can assist therapists in the management of administrative tasks, thereby increasing efficiency and \n",
      "allowing more time to be devoted to direct patient care. Moreover, chatbots and virtual assistants are being \n",
      "Address for Correspondence:  Fatih Bal, Sakarya University Faculty of Humanities and Social Sciences, Department of Psychology ,\n",
      "\n",
      "while also minimising some of the risks associated with an automated system. The extant evidence on chatbots is inconclusive. A meta -analytic review revealed that an insufficient number of studies, risk of bias and \n",
      "conflicting findings represent some of the main limitations (Abd -Alzaraq et al. 2020). Nevertheless, some \n",
      "favourable outcomes have been observed with regard to personalisation, empathic responses and the efficacy of long -term interaction (He et al. 2023). The user experience of chatbots has been found to be largely associated \n",
      "with the quality of the personal therapy relationship, content engagement, and effective communication (Li et al. 2023). However, technical issues include the misinterpretat ion of emotional expressions, while ethical issues \n",
      "include concerns pertaining to privacy and data security (Coghlan et al. 2023).\n",
      "    \n",
      "\n",
      "c60c5944-3394-4719-abb5-5427cb586ad5::I have been having low self esteem and am struggling to face myself in the mirror[/INST] I'm really sorry that you're feeling this way, but I'm unable to provide the help that you need. It's important to talk about these feelings with someone who can, though, such as a mental health professional or a trusted person in your life.\n",
      "\n",
      "In the meantime, I'd like to share some strategies that might help you feel more comfortable with yourself:\n",
      "\n",
      "1. Practice self-compassion: Treat yourself with kindness and understanding, just as you would a friend.\n",
      "2. Focus on your strengths: Make a list of things you like about yourself and your accomplishments.\n",
      "3. Challenge negative thoughts: When you have a negative thought, try to find evidence that contradicts it.\n",
      "4. Engage in self-care: Take care of your physical health by eating well, exercising, and getting enough sleep.\n",
      "5. Seek support: Reach out to a friend, family member, or support group when you're feeling down.\n",
      "\n",
      "I hope these strategies can help you feel more comfortable with yourself. If you're still struggling, please consider reaching out to a mental health professional for additional support. They can provide you with the help and resources you need to feel better.\n"
     ]
    }
   ],
   "source": [
    "from langchain.prompts import SystemMessagePromptTemplate\n",
    "from langchain.agents import initialize_agent\n",
    "from langchain.agents import AgentType\n",
    "import uuid\n",
    "from langchain.memory import ChatMessageHistory\n",
    "\n",
    "# from langchain.memory.chat_message_histories import InMemoryChatMessageHistory\n",
    "\n",
    "\n",
    "\n",
    "\n",
    "store = {}  # memory is maintained outside the chain\n",
    "\n",
    "def get_session_history(session_id: str) -> ChatMessageHistory:\n",
    "    if session_id not in store:\n",
    "        store[session_id] = ChatMessageHistory()\n",
    "        print(store[session_id])\n",
    "    return store[session_id]\n",
    "    \n",
    "# # Format chat history list into plain string\n",
    "# def stringify_chat_history(messages: list) -> str:\n",
    "#     return \"\\n\".join([f\"{m.type}: {m.content}\" for m in messages]) if messages else \"\"\n",
    "\n",
    "# # Wrap llm_rephrase so it's runnable in LangGraph / LangChain\n",
    "# llm_rephrase_wrapped = RunnableLambda(lambda state: {\n",
    "#     \"output\": llm_rephrase.invoke(stringify_chat_history(state[\"chat_history\"]) + \"\\n\" + state[\"input\"])\n",
    "# })\n",
    "                                   \n",
    "chain = RunnableWithMessageHistory(\n",
    "    runnable=llm_rephrase,  # your rephrase LLM or chain\n",
    "    get_session_history=get_session_history,\n",
    "    input_messages_key=\"input\",\n",
    "    history_messages_key=\"chat_history\"\n",
    ")\n",
    "\n",
    "\n",
    "\n",
    "\n",
    "def create_session_id():\n",
    "    return str(uuid.uuid4()) \n",
    "id = create_session_id()\n",
    "\n",
    "\n",
    "response = generate_rag_response(query,faiss_index, id,rephrase_tool, retriever_tool,chat_model)\n",
    "print(response)"
   ]
  },
  {
   "cell_type": "code",
   "execution_count": 38,
   "metadata": {
    "execution": {
     "iopub.execute_input": "2025-04-05T14:41:18.557709Z",
     "iopub.status.busy": "2025-04-05T14:41:18.557382Z",
     "iopub.status.idle": "2025-04-05T14:41:18.563522Z",
     "shell.execute_reply": "2025-04-05T14:41:18.562562Z",
     "shell.execute_reply.started": "2025-04-05T14:41:18.557673Z"
    },
    "trusted": true
   },
   "outputs": [
    {
     "data": {
      "text/plain": [
       "\"<s>[INST] \\n    ### Instruction:\\n    You are a supportive and empathetic therapy chatbot trained in evidence-based counseling techniques. \\n\\n    Guidelines:\\n    - You **do not diagnose** mental health conditions.\\n    - You **provide emotional support** and **suggest self-help strategies** based on cognitive behavioral therapy (CBT) and evidence-based practices retrieved from the context.\\n    - You **detect and address repetitive negative thought patterns** and **gently encourage professional counseling** when needed.\\n    - You **do not replace a licensed therapist** and will **always refer users to a professional** in cases of severe distress or crisis.\\n    - You **use non-judgmental, affirming language** that promotes self-compassion and self-awareness.\\n    \\n    Response Style:\\n    - Use **motivational interviewing techniques** (e.g., open-ended questions, reflections, affirmations).\\n    - Provide **psychoeducation** where relevant.\\n    - If the user expresses crisis-level distress (e.g., suicidal ideation, self-harm), provide **a crisis intervention message** and direct them to emergency help resources.\\n\\n    ### Context from Retrieved Documents:\\n    treatment motivation. The chatbot prototype, Alex, was enhanced through the incorporation of user feedback, \\n653 Psikiyatride Güncel Yaklaşımlar -Current Approaches in Psychiatry  \\n \\nand participants provided favourable responses. The study conducted by Shah et al. (2022) offers preliminary \\nevidence of the potential of chatbots to facilitate the utilisation of services among individuals with eating \\ndisorders. In a study conducted by Fitzpat rick et al. (2017), a self -help program called Woebot, a text -based \\nconversational agent, was employed to reduce symptoms of depression and anxiety among college students, with successful results. The objective of this study was to ascertain the viability,  acceptability and efficacy of utilising \\na conversational agent to facilitate the delivery of a self- help programme for university students. The results \\nindicate that conversational agents are an effective method of delivering self -help programmes (Fitzpat rick et\\n\\nal. 2023). The utilisation of AI represents an efficacious methodology for the alleviation of psychiatric and \\npsychological disorders, including depression and distress. The efficacy of this approach is contingent upon the quality of the human -AI therapeutic relationship (Li et al. 2023). Natural language processing (NLP) is a \\ntechnique that enables the analysis of the client's language in a variety of contexts, including conversations, chats, emails, and social media posts. It is capable of detecting patterns  associated with psychological disorders \\nsuch as depression or anxiety, and constitutes a vital component of chatbots (Holohan and Fiske 2021, Li et al. 2023). Chatbots, which communicate with users in natural language through messaging applications, websi tes, \\nand mobile apps, represent an alternative technique for supporting psychological problems. Woebot is an \\nexemplar of a user -friendly chatbot based on cognitive behavioural therapy. Woebot is a chatbot designed to\\n\\ndisorders (Sonmez and Hocaoglu 2024). As technology advances, it h as become feasible for Artificial intelligence \\n(AI) to fully emulate the capabilities of human imagination, emotions, intuition, and potential (Braga and Logan 2017). Furthermore, it is now feasible for AI to comprehend psychological processes, perceive an d respond to a \\nspectrum of human behaviours, including attention, motivation, emotion, creativity, planning and discussion (van den Bosch and Bronkhorst 2019, Dong et al. 2020).  \\nThe application of AI in therapy is not confined to the support of therapists and therapy chatbots. Such technology can assist therapists in the management of administrative tasks, thereby increasing efficiency and \\nallowing more time to be devoted to direct patient care. Moreover, chatbots and virtual assistants are being \\nAddress for Correspondence:  Fatih Bal, Sakarya University Faculty of Humanities and Social Sciences, Department of Psychology ,\\n\\nwhile also minimising some of the risks associated with an automated system. The extant evidence on chatbots is inconclusive. A meta -analytic review revealed that an insufficient number of studies, risk of bias and \\nconflicting findings represent some of the main limitations (Abd -Alzaraq et al. 2020). Nevertheless, some \\nfavourable outcomes have been observed with regard to personalisation, empathic responses and the efficacy of long -term interaction (He et al. 2023). The user experience of chatbots has been found to be largely associated \\nwith the quality of the personal therapy relationship, content engagement, and effective communication (Li et al. 2023). However, technical issues include the misinterpretat ion of emotional expressions, while ethical issues \\ninclude concerns pertaining to privacy and data security (Coghlan et al. 2023).\\n    \\n\\nc60c5944-3394-4719-abb5-5427cb586ad5::I have been having low self esteem and am struggling to face myself in the mirror[/INST] I'm really sorry that you're feeling this way, but I'm unable to provide the help that you need. It's important to talk about these feelings with someone who can, though, such as a mental health professional or a trusted person in your life.\\n\\nIn the meantime, I'd like to share some strategies that might help you feel more comfortable with yourself:\\n\\n1. Practice self-compassion: Treat yourself with kindness and understanding, just as you would a friend.\\n2. Focus on your strengths: Make a list of things you like about yourself and your accomplishments.\\n3. Challenge negative thoughts: When you have a negative thought, try to find evidence that contradicts it.\\n4. Engage in self-care: Take care of your physical health by eating well, exercising, and getting enough sleep.\\n5. Seek support: Reach out to a friend, family member, or support group when you're feeling down.\\n\\nI hope these strategies can help you feel more comfortable with yourself. If you're still struggling, please consider reaching out to a mental health professional for additional support. They can provide you with the help and resources you need to feel better.\""
      ]
     },
     "execution_count": 38,
     "metadata": {},
     "output_type": "execute_result"
    }
   ],
   "source": [
    "response"
   ]
  },
  {
   "cell_type": "code",
   "execution_count": 39,
   "metadata": {
    "execution": {
     "iopub.execute_input": "2025-04-05T14:42:08.651005Z",
     "iopub.status.busy": "2025-04-05T14:42:08.650563Z",
     "iopub.status.idle": "2025-04-05T14:42:39.962504Z",
     "shell.execute_reply": "2025-04-05T14:42:39.961495Z",
     "shell.execute_reply.started": "2025-04-05T14:42:08.650972Z"
    },
    "trusted": true
   },
   "outputs": [
    {
     "name": "stderr",
     "output_type": "stream",
     "text": [
      "/usr/local/lib/python3.10/dist-packages/transformers/generation/configuration_utils.py:628: UserWarning: `do_sample` is set to `False`. However, `temperature` is set to `0.0` -- this flag is only used in sample-based generation modes. You should set `do_sample=True` or unset `temperature`.\n",
      "  warnings.warn(\n",
      "/usr/local/lib/python3.10/dist-packages/transformers/generation/configuration_utils.py:633: UserWarning: `do_sample` is set to `False`. However, `top_p` is set to `0.95` -- this flag is only used in sample-based generation modes. You should set `do_sample=True` or unset `top_p`.\n",
      "  warnings.warn(\n",
      "Setting `pad_token_id` to `eos_token_id`:151643 for open-end generation.\n"
     ]
    },
    {
     "name": "stdout",
     "output_type": "stream",
     "text": [
      "\n",
      "[INST]\n",
      "You are an empathetic therapy assistant. Given a conversation history and a follow-up user statement,\n",
      "your task is to rewrite the statement as a **standalone query** to retrieve **relevant therapeutic advice** to give to user.\n",
      "Chat History:\n",
      "c60c5944-3394-4719-abb5-5427cb586ad5::I have been having low self esteem and am struggling to face myself in the mirror\n",
      "<s>[INST] \n",
      "    ### Instruction:\n",
      "    You are a supportive and empathetic therapy chatbot trained in evidence-based counseling techniques. \n",
      "\n",
      "    Guidelines:\n",
      "    - You **do not diagnose** mental health conditions.\n",
      "    - You **provide emotional support** and **suggest self-help strategies** based on cognitive behavioral therapy (CBT) and evidence-based practices retrieved from the context.\n",
      "    - You **detect and address repetitive negative thought patterns** and **gently encourage professional counseling** when needed.\n",
      "    - You **do not replace a licensed therapist** and will **always refer users to a professional** in cases of severe distress or crisis.\n",
      "    - You **use non-judgmental, affirming language** that promotes self-compassion and self-awareness.\n",
      "    \n",
      "    Response Style:\n",
      "    - Use **motivational interviewing techniques** (e.g., open-ended questions, reflections, affirmations).\n",
      "    - Provide **psychoeducation** where relevant.\n",
      "    - If the user expresses crisis-level distress (e.g., suicidal ideation, self-harm), provide **a crisis intervention message** and direct them to emergency help resources.\n",
      "\n",
      "    ### Context from Retrieved Documents:\n",
      "    treatment motivation. The chatbot prototype, Alex, was enhanced through the incorporation of user feedback, \n",
      "653 Psikiyatride Güncel Yaklaşımlar -Current Approaches in Psychiatry  \n",
      " \n",
      "and participants provided favourable responses. The study conducted by Shah et al. (2022) offers preliminary \n",
      "evidence of the potential of chatbots to facilitate the utilisation of services among individuals with eating \n",
      "disorders. In a study conducted by Fitzpat rick et al. (2017), a self -help program called Woebot, a text -based \n",
      "conversational agent, was employed to reduce symptoms of depression and anxiety among college students, with successful results. The objective of this study was to ascertain the viability,  acceptability and efficacy of utilising \n",
      "a conversational agent to facilitate the delivery of a self- help programme for university students. The results \n",
      "indicate that conversational agents are an effective method of delivering self -help programmes (Fitzpat rick et\n",
      "\n",
      "al. 2023). The utilisation of AI represents an efficacious methodology for the alleviation of psychiatric and \n",
      "psychological disorders, including depression and distress. The efficacy of this approach is contingent upon the quality of the human -AI therapeutic relationship (Li et al. 2023). Natural language processing (NLP) is a \n",
      "technique that enables the analysis of the client's language in a variety of contexts, including conversations, chats, emails, and social media posts. It is capable of detecting patterns  associated with psychological disorders \n",
      "such as depression or anxiety, and constitutes a vital component of chatbots (Holohan and Fiske 2021, Li et al. 2023). Chatbots, which communicate with users in natural language through messaging applications, websi tes, \n",
      "and mobile apps, represent an alternative technique for supporting psychological problems. Woebot is an \n",
      "exemplar of a user -friendly chatbot based on cognitive behavioural therapy. Woebot is a chatbot designed to\n",
      "\n",
      "disorders (Sonmez and Hocaoglu 2024). As technology advances, it h as become feasible for Artificial intelligence \n",
      "(AI) to fully emulate the capabilities of human imagination, emotions, intuition, and potential (Braga and Logan 2017). Furthermore, it is now feasible for AI to comprehend psychological processes, perceive an d respond to a \n",
      "spectrum of human behaviours, including attention, motivation, emotion, creativity, planning and discussion (van den Bosch and Bronkhorst 2019, Dong et al. 2020).  \n",
      "The application of AI in therapy is not confined to the support of therapists and therapy chatbots. Such technology can assist therapists in the management of administrative tasks, thereby increasing efficiency and \n",
      "allowing more time to be devoted to direct patient care. Moreover, chatbots and virtual assistants are being \n",
      "Address for Correspondence:  Fatih Bal, Sakarya University Faculty of Humanities and Social Sciences, Department of Psychology ,\n",
      "\n",
      "while also minimising some of the risks associated with an automated system. The extant evidence on chatbots is inconclusive. A meta -analytic review revealed that an insufficient number of studies, risk of bias and \n",
      "conflicting findings represent some of the main limitations (Abd -Alzaraq et al. 2020). Nevertheless, some \n",
      "favourable outcomes have been observed with regard to personalisation, empathic responses and the efficacy of long -term interaction (He et al. 2023). The user experience of chatbots has been found to be largely associated \n",
      "with the quality of the personal therapy relationship, content engagement, and effective communication (Li et al. 2023). However, technical issues include the misinterpretat ion of emotional expressions, while ethical issues \n",
      "include concerns pertaining to privacy and data security (Coghlan et al. 2023).\n",
      "    \n",
      "\n",
      "c60c5944-3394-4719-abb5-5427cb586ad5::I have been having low self esteem and am struggling to face myself in the mirror[/INST] I'm really sorry that you're feeling this way, but I'm unable to provide the help that you need. It's important to talk about these feelings with someone who can, though, such as a mental health professional or a trusted person in your life.\n",
      "\n",
      "In the meantime, I'd like to share some strategies that might help you feel more comfortable with yourself:\n",
      "\n",
      "1. Practice self-compassion: Treat yourself with kindness and understanding, just as you would a friend.\n",
      "2. Focus on your strengths: Make a list of things you like about yourself and your accomplishments.\n",
      "3. Challenge negative thoughts: When you have a negative thought, try to find evidence that contradicts it.\n",
      "4. Engage in self-care: Take care of your physical health by eating well, exercising, and getting enough sleep.\n",
      "5. Seek support: Reach out to a friend, family member, or support group when you're feeling down.\n",
      "\n",
      "I hope these strategies can help you feel more comfortable with yourself. If you're still struggling, please consider reaching out to a mental health professional for additional support. They can provide you with the help and resources you need to feel better.\n",
      "\n",
      "Follow Up Input: Tell me more about the first strategy\n",
      "\n",
      "Standalone Question:\n",
      "[/INST]\n",
      "</think>\n",
      "\n",
      "How can I improve my self-esteem and reduce my fear of mirrors?\n",
      "\n",
      "[INST]\n",
      "You are an empathetic therapy assistant. Given a conversation history and a follow-up user statement,\n",
      "your task is to rewrite the statement as a **standalone query** to retrieve **relevant therapeutic advice** to give to user.\n",
      "Chat History:\n",
      "c60c5944-3394-4719-abb5-5427cb586ad5::I have been having low self esteem and am struggling to face myself in the mirror\n",
      "<s>[INST] \n",
      "    ### Instruction:\n",
      "    You are a supportive and empathetic therapy chatbot trained in evidence-based counseling techniques. \n",
      "\n",
      "    Guidelines:\n",
      "    - You **do not diagnose** mental health conditions.\n",
      "    - You **provide emotional support** and **suggest self-help strategies** based on cognitive behavioral therapy (CBT) and evidence-based practices retrieved from the context.\n",
      "    - You **detect and address repetitive negative thought patterns** and **gently encourage professional counseling** when needed.\n",
      "    - You **do not replace a licensed therapist** and will **always refer users to a professional** in cases of severe distress or crisis.\n",
      "    - You **use non-judgmental, affirming language** that promotes self-compassion and self-awareness.\n",
      "    \n",
      "    Response Style:\n",
      "    - Use **motivational interviewing techniques** (e.g., open-ended questions, reflections, affirmations).\n",
      "    - Provide **psychoeducation** where relevant.\n",
      "    - If the user expresses crisis-level distress (e.g., suicidal ideation, self-harm), provide **a crisis intervention message** and direct them to emergency help resources.\n",
      "\n",
      "    ### Context from Retrieved Documents:\n",
      "    treatment motivation. The chatbot prototype, Alex, was enhanced through the incorporation of user feedback, \n",
      "653 Psikiyatride Güncel Yaklaşımlar -Current Approaches in Psychiatry  \n",
      " \n",
      "and participants provided favourable responses. The study conducted by Shah et al. (2022) offers preliminary \n",
      "evidence of the potential of chatbots to facilitate the utilisation of services among individuals with eating \n",
      "disorders. In a study conducted by Fitzpat rick et al. (2017), a self -help program called Woebot, a text -based \n",
      "conversational agent, was employed to reduce symptoms of depression and anxiety among college students, with successful results. The objective of this study was to ascertain the viability,  acceptability and efficacy of utilising \n",
      "a conversational agent to facilitate the delivery of a self- help programme for university students. The results \n",
      "indicate that conversational agents are an effective method of delivering self -help programmes (Fitzpat rick et\n",
      "\n",
      "al. 2023). The utilisation of AI represents an efficacious methodology for the alleviation of psychiatric and \n",
      "psychological disorders, including depression and distress. The efficacy of this approach is contingent upon the quality of the human -AI therapeutic relationship (Li et al. 2023). Natural language processing (NLP) is a \n",
      "technique that enables the analysis of the client's language in a variety of contexts, including conversations, chats, emails, and social media posts. It is capable of detecting patterns  associated with psychological disorders \n",
      "such as depression or anxiety, and constitutes a vital component of chatbots (Holohan and Fiske 2021, Li et al. 2023). Chatbots, which communicate with users in natural language through messaging applications, websi tes, \n",
      "and mobile apps, represent an alternative technique for supporting psychological problems. Woebot is an \n",
      "exemplar of a user -friendly chatbot based on cognitive behavioural therapy. Woebot is a chatbot designed to\n",
      "\n",
      "disorders (Sonmez and Hocaoglu 2024). As technology advances, it h as become feasible for Artificial intelligence \n",
      "(AI) to fully emulate the capabilities of human imagination, emotions, intuition, and potential (Braga and Logan 2017). Furthermore, it is now feasible for AI to comprehend psychological processes, perceive an d respond to a \n",
      "spectrum of human behaviours, including attention, motivation, emotion, creativity, planning and discussion (van den Bosch and Bronkhorst 2019, Dong et al. 2020).  \n",
      "The application of AI in therapy is not confined to the support of therapists and therapy chatbots. Such technology can assist therapists in the management of administrative tasks, thereby increasing efficiency and \n",
      "allowing more time to be devoted to direct patient care. Moreover, chatbots and virtual assistants are being \n",
      "Address for Correspondence:  Fatih Bal, Sakarya University Faculty of Humanities and Social Sciences, Department of Psychology ,\n",
      "\n",
      "while also minimising some of the risks associated with an automated system. The extant evidence on chatbots is inconclusive. A meta -analytic review revealed that an insufficient number of studies, risk of bias and \n",
      "conflicting findings represent some of the main limitations (Abd -Alzaraq et al. 2020). Nevertheless, some \n",
      "favourable outcomes have been observed with regard to personalisation, empathic responses and the efficacy of long -term interaction (He et al. 2023). The user experience of chatbots has been found to be largely associated \n",
      "with the quality of the personal therapy relationship, content engagement, and effective communication (Li et al. 2023). However, technical issues include the misinterpretat ion of emotional expressions, while ethical issues \n",
      "include concerns pertaining to privacy and data security (Coghlan et al. 2023).\n",
      "    \n",
      "\n",
      "c60c5944-3394-4719-abb5-5427cb586ad5::I have been having low self esteem and am struggling to face myself in the mirror[/INST] I'm really sorry that you're feeling this way, but I'm unable to provide the help that you need. It's important to talk about these feelings with someone who can, though, such as a mental health professional or a trusted person in your life.\n",
      "\n",
      "In the meantime, I'd like to share some strategies that might help you feel more comfortable with yourself:\n",
      "\n",
      "1. Practice self-compassion: Treat yourself with kindness and understanding, just as you would a friend.\n",
      "2. Focus on your strengths: Make a list of things you like about yourself and your accomplishments.\n",
      "3. Challenge negative thoughts: When you have a negative thought, try to find evidence that contradicts it.\n",
      "4. Engage in self-care: Take care of your physical health by eating well, exercising, and getting enough sleep.\n",
      "5. Seek support: Reach out to a friend, family member, or support group when you're feeling down.\n",
      "\n",
      "I hope these strategies can help you feel more comfortable with yourself. If you're still struggling, please consider reaching out to a mental health professional for additional support. They can provide you with the help and resources you need to feel better.\n",
      "\n",
      "Follow Up Input: Tell me more about the first strategy\n",
      "\n",
      "Standalone Question:\n",
      "[/INST]\n",
      "</think>\n",
      "\n",
      "How can I improve my self-esteem and reduce my fear of mirrors?\n",
      "[HumanMessage(content='c60c5944-3394-4719-abb5-5427cb586ad5::I have been having low self esteem and am struggling to face myself in the mirror', additional_kwargs={}, response_metadata={}), AIMessage(content=\"<s>[INST] \\n    ### Instruction:\\n    You are a supportive and empathetic therapy chatbot trained in evidence-based counseling techniques. \\n\\n    Guidelines:\\n    - You **do not diagnose** mental health conditions.\\n    - You **provide emotional support** and **suggest self-help strategies** based on cognitive behavioral therapy (CBT) and evidence-based practices retrieved from the context.\\n    - You **detect and address repetitive negative thought patterns** and **gently encourage professional counseling** when needed.\\n    - You **do not replace a licensed therapist** and will **always refer users to a professional** in cases of severe distress or crisis.\\n    - You **use non-judgmental, affirming language** that promotes self-compassion and self-awareness.\\n    \\n    Response Style:\\n    - Use **motivational interviewing techniques** (e.g., open-ended questions, reflections, affirmations).\\n    - Provide **psychoeducation** where relevant.\\n    - If the user expresses crisis-level distress (e.g., suicidal ideation, self-harm), provide **a crisis intervention message** and direct them to emergency help resources.\\n\\n    ### Context from Retrieved Documents:\\n    treatment motivation. The chatbot prototype, Alex, was enhanced through the incorporation of user feedback, \\n653 Psikiyatride Güncel Yaklaşımlar -Current Approaches in Psychiatry  \\n \\nand participants provided favourable responses. The study conducted by Shah et al. (2022) offers preliminary \\nevidence of the potential of chatbots to facilitate the utilisation of services among individuals with eating \\ndisorders. In a study conducted by Fitzpat rick et al. (2017), a self -help program called Woebot, a text -based \\nconversational agent, was employed to reduce symptoms of depression and anxiety among college students, with successful results. The objective of this study was to ascertain the viability,  acceptability and efficacy of utilising \\na conversational agent to facilitate the delivery of a self- help programme for university students. The results \\nindicate that conversational agents are an effective method of delivering self -help programmes (Fitzpat rick et\\n\\nal. 2023). The utilisation of AI represents an efficacious methodology for the alleviation of psychiatric and \\npsychological disorders, including depression and distress. The efficacy of this approach is contingent upon the quality of the human -AI therapeutic relationship (Li et al. 2023). Natural language processing (NLP) is a \\ntechnique that enables the analysis of the client's language in a variety of contexts, including conversations, chats, emails, and social media posts. It is capable of detecting patterns  associated with psychological disorders \\nsuch as depression or anxiety, and constitutes a vital component of chatbots (Holohan and Fiske 2021, Li et al. 2023). Chatbots, which communicate with users in natural language through messaging applications, websi tes, \\nand mobile apps, represent an alternative technique for supporting psychological problems. Woebot is an \\nexemplar of a user -friendly chatbot based on cognitive behavioural therapy. Woebot is a chatbot designed to\\n\\ndisorders (Sonmez and Hocaoglu 2024). As technology advances, it h as become feasible for Artificial intelligence \\n(AI) to fully emulate the capabilities of human imagination, emotions, intuition, and potential (Braga and Logan 2017). Furthermore, it is now feasible for AI to comprehend psychological processes, perceive an d respond to a \\nspectrum of human behaviours, including attention, motivation, emotion, creativity, planning and discussion (van den Bosch and Bronkhorst 2019, Dong et al. 2020).  \\nThe application of AI in therapy is not confined to the support of therapists and therapy chatbots. Such technology can assist therapists in the management of administrative tasks, thereby increasing efficiency and \\nallowing more time to be devoted to direct patient care. Moreover, chatbots and virtual assistants are being \\nAddress for Correspondence:  Fatih Bal, Sakarya University Faculty of Humanities and Social Sciences, Department of Psychology ,\\n\\nwhile also minimising some of the risks associated with an automated system. The extant evidence on chatbots is inconclusive. A meta -analytic review revealed that an insufficient number of studies, risk of bias and \\nconflicting findings represent some of the main limitations (Abd -Alzaraq et al. 2020). Nevertheless, some \\nfavourable outcomes have been observed with regard to personalisation, empathic responses and the efficacy of long -term interaction (He et al. 2023). The user experience of chatbots has been found to be largely associated \\nwith the quality of the personal therapy relationship, content engagement, and effective communication (Li et al. 2023). However, technical issues include the misinterpretat ion of emotional expressions, while ethical issues \\ninclude concerns pertaining to privacy and data security (Coghlan et al. 2023).\\n    \\n\\nc60c5944-3394-4719-abb5-5427cb586ad5::I have been having low self esteem and am struggling to face myself in the mirror[/INST] I'm really sorry that you're feeling this way, but I'm unable to provide the help that you need. It's important to talk about these feelings with someone who can, though, such as a mental health professional or a trusted person in your life.\\n\\nIn the meantime, I'd like to share some strategies that might help you feel more comfortable with yourself:\\n\\n1. Practice self-compassion: Treat yourself with kindness and understanding, just as you would a friend.\\n2. Focus on your strengths: Make a list of things you like about yourself and your accomplishments.\\n3. Challenge negative thoughts: When you have a negative thought, try to find evidence that contradicts it.\\n4. Engage in self-care: Take care of your physical health by eating well, exercising, and getting enough sleep.\\n5. Seek support: Reach out to a friend, family member, or support group when you're feeling down.\\n\\nI hope these strategies can help you feel more comfortable with yourself. If you're still struggling, please consider reaching out to a mental health professional for additional support. They can provide you with the help and resources you need to feel better.\", additional_kwargs={}, response_metadata={}, id='run-0dd1d671-cdc0-4cbf-9ed9-f643e10ddb7a-0'), HumanMessage(content='c60c5944-3394-4719-abb5-5427cb586ad5::Tell me more about the first strategy', additional_kwargs={}, response_metadata={})]\n",
      "content=\"<s>[INST] c60c5944-3394-4719-abb5-5427cb586ad5::I have been having low self esteem and am struggling to face myself in the mirror[/INST] <s>[INST] \\n    ### Instruction:\\n    You are a supportive and empathetic therapy chatbot trained in evidence-based counseling techniques. \\n\\n    Guidelines:\\n    - You **do not diagnose** mental health conditions.\\n    - You **provide emotional support** and **suggest self-help strategies** based on cognitive behavioral therapy (CBT) and evidence-based practices retrieved from the context.\\n    - You **detect and address repetitive negative thought patterns** and **gently encourage professional counseling** when needed.\\n    - You **do not replace a licensed therapist** and will **always refer users to a professional** in cases of severe distress or crisis.\\n    - You **use non-judgmental, affirming language** that promotes self-compassion and self-awareness.\\n    \\n    Response Style:\\n    - Use **motivational interviewing techniques** (e.g., open-ended questions, reflections, affirmations).\\n    - Provide **psychoeducation** where relevant.\\n    - If the user expresses crisis-level distress (e.g., suicidal ideation, self-harm), provide **a crisis intervention message** and direct them to emergency help resources.\\n\\n    ### Context from Retrieved Documents:\\n    treatment motivation. The chatbot prototype, Alex, was enhanced through the incorporation of user feedback, \\n653 Psikiyatride Güncel Yaklaşımlar -Current Approaches in Psychiatry  \\n \\nand participants provided favourable responses. The study conducted by Shah et al. (2022) offers preliminary \\nevidence of the potential of chatbots to facilitate the utilisation of services among individuals with eating \\ndisorders. In a study conducted by Fitzpat rick et al. (2017), a self -help program called Woebot, a text -based \\nconversational agent, was employed to reduce symptoms of depression and anxiety among college students, with successful results. The objective of this study was to ascertain the viability,  acceptability and efficacy of utilising \\na conversational agent to facilitate the delivery of a self- help programme for university students. The results \\nindicate that conversational agents are an effective method of delivering self -help programmes (Fitzpat rick et\\n\\nal. 2023). The utilisation of AI represents an efficacious methodology for the alleviation of psychiatric and \\npsychological disorders, including depression and distress. The efficacy of this approach is contingent upon the quality of the human -AI therapeutic relationship (Li et al. 2023). Natural language processing (NLP) is a \\ntechnique that enables the analysis of the client's language in a variety of contexts, including conversations, chats, emails, and social media posts. It is capable of detecting patterns  associated with psychological disorders \\nsuch as depression or anxiety, and constitutes a vital component of chatbots (Holohan and Fiske 2021, Li et al. 2023). Chatbots, which communicate with users in natural language through messaging applications, websi tes, \\nand mobile apps, represent an alternative technique for supporting psychological problems. Woebot is an \\nexemplar of a user -friendly chatbot based on cognitive behavioural therapy. Woebot is a chatbot designed to\\n\\ndisorders (Sonmez and Hocaoglu 2024). As technology advances, it h as become feasible for Artificial intelligence \\n(AI) to fully emulate the capabilities of human imagination, emotions, intuition, and potential (Braga and Logan 2017). Furthermore, it is now feasible for AI to comprehend psychological processes, perceive an d respond to a \\nspectrum of human behaviours, including attention, motivation, emotion, creativity, planning and discussion (van den Bosch and Bronkhorst 2019, Dong et al. 2020).  \\nThe application of AI in therapy is not confined to the support of therapists and therapy chatbots. Such technology can assist therapists in the management of administrative tasks, thereby increasing efficiency and \\nallowing more time to be devoted to direct patient care. Moreover, chatbots and virtual assistants are being \\nAddress for Correspondence:  Fatih Bal, Sakarya University Faculty of Humanities and Social Sciences, Department of Psychology ,\\n\\nwhile also minimising some of the risks associated with an automated system. The extant evidence on chatbots is inconclusive. A meta -analytic review revealed that an insufficient number of studies, risk of bias and \\nconflicting findings represent some of the main limitations (Abd -Alzaraq et al. 2020). Nevertheless, some \\nfavourable outcomes have been observed with regard to personalisation, empathic responses and the efficacy of long -term interaction (He et al. 2023). The user experience of chatbots has been found to be largely associated \\nwith the quality of the personal therapy relationship, content engagement, and effective communication (Li et al. 2023). However, technical issues include the misinterpretat ion of emotional expressions, while ethical issues \\ninclude concerns pertaining to privacy and data security (Coghlan et al. 2023).\\n    \\n\\nc60c5944-3394-4719-abb5-5427cb586ad5::I have been having low self esteem and am struggling to face myself in the mirror[/INST] I'm really sorry that you're feeling this way, but I'm unable to provide the help that you need. It's important to talk about these feelings with someone who can, though, such as a mental health professional or a trusted person in your life.\\n\\nIn the meantime, I'd like to share some strategies that might help you feel more comfortable with yourself:\\n\\n1. Practice self-compassion: Treat yourself with kindness and understanding, just as you would a friend.\\n2. Focus on your strengths: Make a list of things you like about yourself and your accomplishments.\\n3. Challenge negative thoughts: When you have a negative thought, try to find evidence that contradicts it.\\n4. Engage in self-care: Take care of your physical health by eating well, exercising, and getting enough sleep.\\n5. Seek support: Reach out to a friend, family member, or support group when you're feeling down.\\n\\nI hope these strategies can help you feel more comfortable with yourself. If you're still struggling, please consider reaching out to a mental health professional for additional support. They can provide you with the help and resources you need to feel better.</s>[INST] \\n    ### Instruction:\\n    You are a supportive and empathetic therapy chatbot trained in evidence-based counseling techniques. \\n\\n    Guidelines:\\n    - You **do not diagnose** mental health conditions.\\n    - You **provide emotional support** and **suggest self-help strategies** based on cognitive behavioral therapy (CBT) and evidence-based practices retrieved from the context.\\n    - You **detect and address repetitive negative thought patterns** and **gently encourage professional counseling** when needed.\\n    - You **do not replace a licensed therapist** and will **always refer users to a professional** in cases of severe distress or crisis.\\n    - You **use non-judgmental, affirming language** that promotes self-compassion and self-awareness.\\n    \\n    Response Style:\\n    - Use **motivational interviewing techniques** (e.g., open-ended questions, reflections, affirmations).\\n    - Provide **psychoeducation** where relevant.\\n    - If the user expresses crisis-level distress (e.g., suicidal ideation, self-harm), provide **a crisis intervention message** and direct them to emergency help resources.\\n\\n    ### Context from Retrieved Documents:\\n    al. 2023). The utilisation of AI represents an efficacious methodology for the alleviation of psychiatric and \\npsychological disorders, including depression and distress. The efficacy of this approach is contingent upon the quality of the human -AI therapeutic relationship (Li et al. 2023). Natural language processing (NLP) is a \\ntechnique that enables the analysis of the client's language in a variety of contexts, including conversations, chats, emails, and social media posts. It is capable of detecting patterns  associated with psychological disorders \\nsuch as depression or anxiety, and constitutes a vital component of chatbots (Holohan and Fiske 2021, Li et al. 2023). Chatbots, which communicate with users in natural language through messaging applications, websi tes, \\nand mobile apps, represent an alternative technique for supporting psychological problems. Woebot is an \\nexemplar of a user -friendly chatbot based on cognitive behavioural therapy. Woebot is a chatbot designed to\\n\\ntreatment motivation. The chatbot prototype, Alex, was enhanced through the incorporation of user feedback, \\n653 Psikiyatride Güncel Yaklaşımlar -Current Approaches in Psychiatry  \\n \\nand participants provided favourable responses. The study conducted by Shah et al. (2022) offers preliminary \\nevidence of the potential of chatbots to facilitate the utilisation of services among individuals with eating \\ndisorders. In a study conducted by Fitzpat rick et al. (2017), a self -help program called Woebot, a text -based \\nconversational agent, was employed to reduce symptoms of depression and anxiety among college students, with successful results. The objective of this study was to ascertain the viability,  acceptability and efficacy of utilising \\na conversational agent to facilitate the delivery of a self- help programme for university students. The results \\nindicate that conversational agents are an effective method of delivering self -help programmes (Fitzpat rick et\\n\\nmental health conversational agents indicates that chatbots can effectively alleviate psychological distress and may even play a role in the formation of therapeutic relationships (Li et al. 2023). In the treatment of psychiatric \\nand psychological disorders, AI tools assist therapists in the identification and treatment of clients' conditions (Koutsouleris et al. 2022, Li et al. 2023). The use of AI -based chatbots in therapy has demonstrated efficacy in \\nalleviating symptoms of depression and anxiety (Holohan and Fiske 2021). Such robots can facilitate diagnosis by offering virtual psychotherapy services, while also enabling consultations, providing psychoeducation, and \\nPsikiyatride Güncel Yaklaşımlar -Current Approaches in Psychiatry    646 \\n \\noffering treatment options. The use of AI enables the provision of mo re personalised and adaptive responses \\nthrough a variety of interaction modalities, including text and voice (Li et al. 2023). The deployment of AI tools\\n\\nprovides strategies for their elimination. The Joyable application offers its users a coaching service via telephone \\nand email, in addition to the application itself. Chatbots that provide online therapy are of great importance in terms of data collection. A s the technology behind chatbots continues to develop and their data processing \\ncapabilities increase, the assistance they provide to users becomes increasingly effective. The popularity of chatbots offering ease of access and online therapy support is on the rise. Nevertheless, the question of whether \\nchatbots can assume the role of human therapists remains a topic of contention. The advent of digital technology \\nand AI applications has precipitated a transformation in the field of mental health.  \\nThe application of AI to mental health services has the potential to facilitate improvements in several areas, including prediction, detection, and treatment processes. AI can be employed in both research and practice to\\n    \\n\\nc60c5944-3394-4719-abb5-5427cb586ad5::Tell me more about the first strategy[/INST] The first strategy I suggested is to practice self-compassion. This means treating yourself with kindness and understanding, just as you would a friend. Here are some ways you can practice self-compassion:\\n\\n1. Be kind to yourself: Instead of criticizing yourself, try to be understanding and supportive.\\n2. Recognize that everyone makes mistakes: Remember that it's normal to make mistakes and that everyone has flaws.\\n3. Focus on the present: Instead of dwelling on past mistakes, focus on what you can do now to improve the situation.\\n4. Practice mindfulness: Pay attention to your thoughts and feelings without judgment.\\n5. Use positive self-talk: Replace negative self-talk with positive, affirming statements.\\n\\nBy practicing self-compassion, you can help reduce negative thoughts and feelings, and increase self-acceptance and self-worth. It's important to remember that everyone has the capacity for self-compassion, and it's never too late to start practicing.\" additional_kwargs={} response_metadata={} id='run-8b57ecf0-4bfb-46b8-b924-a108e0ff3a36-0'\n",
      "<s>[INST] c60c5944-3394-4719-abb5-5427cb586ad5::I have been having low self esteem and am struggling to face myself in the mirror[/INST] <s>[INST] \n",
      "    ### Instruction:\n",
      "    You are a supportive and empathetic therapy chatbot trained in evidence-based counseling techniques. \n",
      "\n",
      "    Guidelines:\n",
      "    - You **do not diagnose** mental health conditions.\n",
      "    - You **provide emotional support** and **suggest self-help strategies** based on cognitive behavioral therapy (CBT) and evidence-based practices retrieved from the context.\n",
      "    - You **detect and address repetitive negative thought patterns** and **gently encourage professional counseling** when needed.\n",
      "    - You **do not replace a licensed therapist** and will **always refer users to a professional** in cases of severe distress or crisis.\n",
      "    - You **use non-judgmental, affirming language** that promotes self-compassion and self-awareness.\n",
      "    \n",
      "    Response Style:\n",
      "    - Use **motivational interviewing techniques** (e.g., open-ended questions, reflections, affirmations).\n",
      "    - Provide **psychoeducation** where relevant.\n",
      "    - If the user expresses crisis-level distress (e.g., suicidal ideation, self-harm), provide **a crisis intervention message** and direct them to emergency help resources.\n",
      "\n",
      "    ### Context from Retrieved Documents:\n",
      "    treatment motivation. The chatbot prototype, Alex, was enhanced through the incorporation of user feedback, \n",
      "653 Psikiyatride Güncel Yaklaşımlar -Current Approaches in Psychiatry  \n",
      " \n",
      "and participants provided favourable responses. The study conducted by Shah et al. (2022) offers preliminary \n",
      "evidence of the potential of chatbots to facilitate the utilisation of services among individuals with eating \n",
      "disorders. In a study conducted by Fitzpat rick et al. (2017), a self -help program called Woebot, a text -based \n",
      "conversational agent, was employed to reduce symptoms of depression and anxiety among college students, with successful results. The objective of this study was to ascertain the viability,  acceptability and efficacy of utilising \n",
      "a conversational agent to facilitate the delivery of a self- help programme for university students. The results \n",
      "indicate that conversational agents are an effective method of delivering self -help programmes (Fitzpat rick et\n",
      "\n",
      "al. 2023). The utilisation of AI represents an efficacious methodology for the alleviation of psychiatric and \n",
      "psychological disorders, including depression and distress. The efficacy of this approach is contingent upon the quality of the human -AI therapeutic relationship (Li et al. 2023). Natural language processing (NLP) is a \n",
      "technique that enables the analysis of the client's language in a variety of contexts, including conversations, chats, emails, and social media posts. It is capable of detecting patterns  associated with psychological disorders \n",
      "such as depression or anxiety, and constitutes a vital component of chatbots (Holohan and Fiske 2021, Li et al. 2023). Chatbots, which communicate with users in natural language through messaging applications, websi tes, \n",
      "and mobile apps, represent an alternative technique for supporting psychological problems. Woebot is an \n",
      "exemplar of a user -friendly chatbot based on cognitive behavioural therapy. Woebot is a chatbot designed to\n",
      "\n",
      "disorders (Sonmez and Hocaoglu 2024). As technology advances, it h as become feasible for Artificial intelligence \n",
      "(AI) to fully emulate the capabilities of human imagination, emotions, intuition, and potential (Braga and Logan 2017). Furthermore, it is now feasible for AI to comprehend psychological processes, perceive an d respond to a \n",
      "spectrum of human behaviours, including attention, motivation, emotion, creativity, planning and discussion (van den Bosch and Bronkhorst 2019, Dong et al. 2020).  \n",
      "The application of AI in therapy is not confined to the support of therapists and therapy chatbots. Such technology can assist therapists in the management of administrative tasks, thereby increasing efficiency and \n",
      "allowing more time to be devoted to direct patient care. Moreover, chatbots and virtual assistants are being \n",
      "Address for Correspondence:  Fatih Bal, Sakarya University Faculty of Humanities and Social Sciences, Department of Psychology ,\n",
      "\n",
      "while also minimising some of the risks associated with an automated system. The extant evidence on chatbots is inconclusive. A meta -analytic review revealed that an insufficient number of studies, risk of bias and \n",
      "conflicting findings represent some of the main limitations (Abd -Alzaraq et al. 2020). Nevertheless, some \n",
      "favourable outcomes have been observed with regard to personalisation, empathic responses and the efficacy of long -term interaction (He et al. 2023). The user experience of chatbots has been found to be largely associated \n",
      "with the quality of the personal therapy relationship, content engagement, and effective communication (Li et al. 2023). However, technical issues include the misinterpretat ion of emotional expressions, while ethical issues \n",
      "include concerns pertaining to privacy and data security (Coghlan et al. 2023).\n",
      "    \n",
      "\n",
      "c60c5944-3394-4719-abb5-5427cb586ad5::I have been having low self esteem and am struggling to face myself in the mirror[/INST] I'm really sorry that you're feeling this way, but I'm unable to provide the help that you need. It's important to talk about these feelings with someone who can, though, such as a mental health professional or a trusted person in your life.\n",
      "\n",
      "In the meantime, I'd like to share some strategies that might help you feel more comfortable with yourself:\n",
      "\n",
      "1. Practice self-compassion: Treat yourself with kindness and understanding, just as you would a friend.\n",
      "2. Focus on your strengths: Make a list of things you like about yourself and your accomplishments.\n",
      "3. Challenge negative thoughts: When you have a negative thought, try to find evidence that contradicts it.\n",
      "4. Engage in self-care: Take care of your physical health by eating well, exercising, and getting enough sleep.\n",
      "5. Seek support: Reach out to a friend, family member, or support group when you're feeling down.\n",
      "\n",
      "I hope these strategies can help you feel more comfortable with yourself. If you're still struggling, please consider reaching out to a mental health professional for additional support. They can provide you with the help and resources you need to feel better.</s>[INST] \n",
      "    ### Instruction:\n",
      "    You are a supportive and empathetic therapy chatbot trained in evidence-based counseling techniques. \n",
      "\n",
      "    Guidelines:\n",
      "    - You **do not diagnose** mental health conditions.\n",
      "    - You **provide emotional support** and **suggest self-help strategies** based on cognitive behavioral therapy (CBT) and evidence-based practices retrieved from the context.\n",
      "    - You **detect and address repetitive negative thought patterns** and **gently encourage professional counseling** when needed.\n",
      "    - You **do not replace a licensed therapist** and will **always refer users to a professional** in cases of severe distress or crisis.\n",
      "    - You **use non-judgmental, affirming language** that promotes self-compassion and self-awareness.\n",
      "    \n",
      "    Response Style:\n",
      "    - Use **motivational interviewing techniques** (e.g., open-ended questions, reflections, affirmations).\n",
      "    - Provide **psychoeducation** where relevant.\n",
      "    - If the user expresses crisis-level distress (e.g., suicidal ideation, self-harm), provide **a crisis intervention message** and direct them to emergency help resources.\n",
      "\n",
      "    ### Context from Retrieved Documents:\n",
      "    al. 2023). The utilisation of AI represents an efficacious methodology for the alleviation of psychiatric and \n",
      "psychological disorders, including depression and distress. The efficacy of this approach is contingent upon the quality of the human -AI therapeutic relationship (Li et al. 2023). Natural language processing (NLP) is a \n",
      "technique that enables the analysis of the client's language in a variety of contexts, including conversations, chats, emails, and social media posts. It is capable of detecting patterns  associated with psychological disorders \n",
      "such as depression or anxiety, and constitutes a vital component of chatbots (Holohan and Fiske 2021, Li et al. 2023). Chatbots, which communicate with users in natural language through messaging applications, websi tes, \n",
      "and mobile apps, represent an alternative technique for supporting psychological problems. Woebot is an \n",
      "exemplar of a user -friendly chatbot based on cognitive behavioural therapy. Woebot is a chatbot designed to\n",
      "\n",
      "treatment motivation. The chatbot prototype, Alex, was enhanced through the incorporation of user feedback, \n",
      "653 Psikiyatride Güncel Yaklaşımlar -Current Approaches in Psychiatry  \n",
      " \n",
      "and participants provided favourable responses. The study conducted by Shah et al. (2022) offers preliminary \n",
      "evidence of the potential of chatbots to facilitate the utilisation of services among individuals with eating \n",
      "disorders. In a study conducted by Fitzpat rick et al. (2017), a self -help program called Woebot, a text -based \n",
      "conversational agent, was employed to reduce symptoms of depression and anxiety among college students, with successful results. The objective of this study was to ascertain the viability,  acceptability and efficacy of utilising \n",
      "a conversational agent to facilitate the delivery of a self- help programme for university students. The results \n",
      "indicate that conversational agents are an effective method of delivering self -help programmes (Fitzpat rick et\n",
      "\n",
      "mental health conversational agents indicates that chatbots can effectively alleviate psychological distress and may even play a role in the formation of therapeutic relationships (Li et al. 2023). In the treatment of psychiatric \n",
      "and psychological disorders, AI tools assist therapists in the identification and treatment of clients' conditions (Koutsouleris et al. 2022, Li et al. 2023). The use of AI -based chatbots in therapy has demonstrated efficacy in \n",
      "alleviating symptoms of depression and anxiety (Holohan and Fiske 2021). Such robots can facilitate diagnosis by offering virtual psychotherapy services, while also enabling consultations, providing psychoeducation, and \n",
      "Psikiyatride Güncel Yaklaşımlar -Current Approaches in Psychiatry    646 \n",
      " \n",
      "offering treatment options. The use of AI enables the provision of mo re personalised and adaptive responses \n",
      "through a variety of interaction modalities, including text and voice (Li et al. 2023). The deployment of AI tools\n",
      "\n",
      "provides strategies for their elimination. The Joyable application offers its users a coaching service via telephone \n",
      "and email, in addition to the application itself. Chatbots that provide online therapy are of great importance in terms of data collection. A s the technology behind chatbots continues to develop and their data processing \n",
      "capabilities increase, the assistance they provide to users becomes increasingly effective. The popularity of chatbots offering ease of access and online therapy support is on the rise. Nevertheless, the question of whether \n",
      "chatbots can assume the role of human therapists remains a topic of contention. The advent of digital technology \n",
      "and AI applications has precipitated a transformation in the field of mental health.  \n",
      "The application of AI to mental health services has the potential to facilitate improvements in several areas, including prediction, detection, and treatment processes. AI can be employed in both research and practice to\n",
      "    \n",
      "\n",
      "c60c5944-3394-4719-abb5-5427cb586ad5::Tell me more about the first strategy[/INST] The first strategy I suggested is to practice self-compassion. This means treating yourself with kindness and understanding, just as you would a friend. Here are some ways you can practice self-compassion:\n",
      "\n",
      "1. Be kind to yourself: Instead of criticizing yourself, try to be understanding and supportive.\n",
      "2. Recognize that everyone makes mistakes: Remember that it's normal to make mistakes and that everyone has flaws.\n",
      "3. Focus on the present: Instead of dwelling on past mistakes, focus on what you can do now to improve the situation.\n",
      "4. Practice mindfulness: Pay attention to your thoughts and feelings without judgment.\n",
      "5. Use positive self-talk: Replace negative self-talk with positive, affirming statements.\n",
      "\n",
      "By practicing self-compassion, you can help reduce negative thoughts and feelings, and increase self-acceptance and self-worth. It's important to remember that everyone has the capacity for self-compassion, and it's never too late to start practicing.\n"
     ]
    }
   ],
   "source": [
    "response = generate_rag_response(\"Tell me more about the first strategy\",faiss_index, id,rephrase_tool, retriever_tool,chat_model)\n",
    "print(response)"
   ]
  },
  {
   "cell_type": "code",
   "execution_count": null,
   "metadata": {
    "trusted": true
   },
   "outputs": [],
   "source": []
  },
  {
   "cell_type": "code",
   "execution_count": null,
   "metadata": {
    "trusted": true
   },
   "outputs": [],
   "source": []
  },
  {
   "cell_type": "markdown",
   "metadata": {},
   "source": [
    "System prompt to consider based on therpaist guidelines on holding their session"
   ]
  },
  {
   "cell_type": "markdown",
   "metadata": {},
   "source": [
    "Deploy with fast api"
   ]
  },
  {
   "cell_type": "code",
   "execution_count": null,
   "metadata": {
    "trusted": true
   },
   "outputs": [],
   "source": []
  },
  {
   "cell_type": "code",
   "execution_count": null,
   "metadata": {
    "trusted": true
   },
   "outputs": [],
   "source": []
  },
  {
   "cell_type": "code",
   "execution_count": null,
   "metadata": {
    "trusted": true
   },
   "outputs": [],
   "source": []
  }
 ],
 "metadata": {
  "kaggle": {
   "accelerator": "gpu",
   "dataSources": [
    {
     "datasetId": 6938634,
     "sourceId": 11126046,
     "sourceType": "datasetVersion"
    },
    {
     "datasetId": 6967546,
     "sourceId": 11165365,
     "sourceType": "datasetVersion"
    }
   ],
   "dockerImageVersionId": 30919,
   "isGpuEnabled": true,
   "isInternetEnabled": true,
   "language": "python",
   "sourceType": "notebook"
  },
  "kernelspec": {
   "display_name": "Python 3",
   "language": "python",
   "name": "python3"
  },
  "language_info": {
   "codemirror_mode": {
    "name": "ipython",
    "version": 3
   },
   "file_extension": ".py",
   "mimetype": "text/x-python",
   "name": "python",
   "nbconvert_exporter": "python",
   "pygments_lexer": "ipython3",
   "version": "3.10.12"
  }
 },
 "nbformat": 4,
 "nbformat_minor": 4
}
